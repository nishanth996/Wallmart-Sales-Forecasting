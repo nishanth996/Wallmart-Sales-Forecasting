{
 "cells": [
  {
   "cell_type": "markdown",
   "metadata": {},
   "source": [
    "## WALLMART SALES FORECASTING"
   ]
  },
  {
   "cell_type": "code",
   "execution_count": 1,
   "metadata": {},
   "outputs": [],
   "source": [
    "#Packages related to general operating system & warnings\n",
    "import os \n",
    "import warnings\n",
    "warnings.filterwarnings('ignore')\n",
    "import numpy as np\n",
    "import matplotlib.pyplot as plt\n",
    "warnings.filterwarnings(\"ignore\")\n",
    "plt.style.use('fivethirtyeight')\n",
    "import pandas as pd\n",
    "import statsmodels.api as sm\n",
    "import matplotlib\n",
    "import pandas_profiling\n",
    "import scipy.stats as stats\n",
    "matplotlib.rcParams['axes.labelsize'] = 14\n",
    "matplotlib.rcParams['xtick.labelsize'] = 12\n",
    "matplotlib.rcParams['ytick.labelsize'] = 12\n",
    "matplotlib.rcParams['text.color'] = 'k'"
   ]
  },
  {
   "cell_type": "code",
   "execution_count": 2,
   "metadata": {},
   "outputs": [
    {
     "name": "stdout",
     "output_type": "stream",
     "text": [
      "Requirement already satisfied: stldecompose in d:\\dsp\\lib\\site-packages (0.0.5)\n",
      "Requirement already satisfied: numpy in d:\\dsp\\lib\\site-packages (from stldecompose) (1.16.4)\n",
      "Requirement already satisfied: statsmodels in d:\\dsp\\lib\\site-packages (from stldecompose) (0.10.0)\n",
      "Requirement already satisfied: pandas in d:\\dsp\\lib\\site-packages (from stldecompose) (0.24.2)\n",
      "Requirement already satisfied: scipy in d:\\dsp\\lib\\site-packages (from stldecompose) (1.2.1)\n",
      "Requirement already satisfied: matplotlib in d:\\dsp\\lib\\site-packages (from stldecompose) (3.1.0)\n",
      "Requirement already satisfied: patsy>=0.4.0 in d:\\dsp\\lib\\site-packages (from statsmodels->stldecompose) (0.5.1)\n",
      "Requirement already satisfied: pytz>=2011k in d:\\dsp\\lib\\site-packages (from pandas->stldecompose) (2019.1)\n",
      "Requirement already satisfied: python-dateutil>=2.5.0 in d:\\dsp\\lib\\site-packages (from pandas->stldecompose) (2.8.0)\n",
      "Requirement already satisfied: cycler>=0.10 in d:\\dsp\\lib\\site-packages (from matplotlib->stldecompose) (0.10.0)\n",
      "Requirement already satisfied: kiwisolver>=1.0.1 in d:\\dsp\\lib\\site-packages (from matplotlib->stldecompose) (1.1.0)\n",
      "Requirement already satisfied: pyparsing!=2.0.4,!=2.1.2,!=2.1.6,>=2.0.1 in d:\\dsp\\lib\\site-packages (from matplotlib->stldecompose) (2.4.0)\n",
      "Requirement already satisfied: six in d:\\dsp\\lib\\site-packages (from patsy>=0.4.0->statsmodels->stldecompose) (1.12.0)\n",
      "Requirement already satisfied: setuptools in d:\\dsp\\lib\\site-packages (from kiwisolver>=1.0.1->matplotlib->stldecompose) (41.0.1)\n",
      "Note: you may need to restart the kernel to use updated packages.\n"
     ]
    }
   ],
   "source": [
    "pip install stldecompose"
   ]
  },
  {
   "cell_type": "code",
   "execution_count": 3,
   "metadata": {},
   "outputs": [],
   "source": [
    "from stldecompose import decompose, forecast     "
   ]
  },
  {
   "cell_type": "code",
   "execution_count": 4,
   "metadata": {},
   "outputs": [],
   "source": [
    "Train = pd.read_csv(\"train.csv\")\n",
    "Feat = pd.read_csv(\"features.csv\")\n",
    "Store = pd.read_csv(\"stores.csv\")\n",
    "Test = pd.read_csv(\"test.csv\")"
   ]
  },
  {
   "cell_type": "code",
   "execution_count": 5,
   "metadata": {},
   "outputs": [
    {
     "data": {
      "text/html": [
       "<div>\n",
       "<style scoped>\n",
       "    .dataframe tbody tr th:only-of-type {\n",
       "        vertical-align: middle;\n",
       "    }\n",
       "\n",
       "    .dataframe tbody tr th {\n",
       "        vertical-align: top;\n",
       "    }\n",
       "\n",
       "    .dataframe thead th {\n",
       "        text-align: right;\n",
       "    }\n",
       "</style>\n",
       "<table border=\"1\" class=\"dataframe\">\n",
       "  <thead>\n",
       "    <tr style=\"text-align: right;\">\n",
       "      <th></th>\n",
       "      <th>Store</th>\n",
       "      <th>Date</th>\n",
       "      <th>Temperature</th>\n",
       "      <th>Fuel_Price</th>\n",
       "      <th>MarkDown1</th>\n",
       "      <th>MarkDown2</th>\n",
       "      <th>MarkDown3</th>\n",
       "      <th>MarkDown4</th>\n",
       "      <th>MarkDown5</th>\n",
       "      <th>CPI</th>\n",
       "      <th>Unemployment</th>\n",
       "      <th>IsHoliday</th>\n",
       "    </tr>\n",
       "  </thead>\n",
       "  <tbody>\n",
       "    <tr>\n",
       "      <th>0</th>\n",
       "      <td>1</td>\n",
       "      <td>2010-02-05</td>\n",
       "      <td>42.31</td>\n",
       "      <td>2.572</td>\n",
       "      <td>NaN</td>\n",
       "      <td>NaN</td>\n",
       "      <td>NaN</td>\n",
       "      <td>NaN</td>\n",
       "      <td>NaN</td>\n",
       "      <td>211.096358</td>\n",
       "      <td>8.106</td>\n",
       "      <td>False</td>\n",
       "    </tr>\n",
       "    <tr>\n",
       "      <th>1</th>\n",
       "      <td>1</td>\n",
       "      <td>2010-02-12</td>\n",
       "      <td>38.51</td>\n",
       "      <td>2.548</td>\n",
       "      <td>NaN</td>\n",
       "      <td>NaN</td>\n",
       "      <td>NaN</td>\n",
       "      <td>NaN</td>\n",
       "      <td>NaN</td>\n",
       "      <td>211.242170</td>\n",
       "      <td>8.106</td>\n",
       "      <td>True</td>\n",
       "    </tr>\n",
       "    <tr>\n",
       "      <th>2</th>\n",
       "      <td>1</td>\n",
       "      <td>2010-02-19</td>\n",
       "      <td>39.93</td>\n",
       "      <td>2.514</td>\n",
       "      <td>NaN</td>\n",
       "      <td>NaN</td>\n",
       "      <td>NaN</td>\n",
       "      <td>NaN</td>\n",
       "      <td>NaN</td>\n",
       "      <td>211.289143</td>\n",
       "      <td>8.106</td>\n",
       "      <td>False</td>\n",
       "    </tr>\n",
       "    <tr>\n",
       "      <th>3</th>\n",
       "      <td>1</td>\n",
       "      <td>2010-02-26</td>\n",
       "      <td>46.63</td>\n",
       "      <td>2.561</td>\n",
       "      <td>NaN</td>\n",
       "      <td>NaN</td>\n",
       "      <td>NaN</td>\n",
       "      <td>NaN</td>\n",
       "      <td>NaN</td>\n",
       "      <td>211.319643</td>\n",
       "      <td>8.106</td>\n",
       "      <td>False</td>\n",
       "    </tr>\n",
       "    <tr>\n",
       "      <th>4</th>\n",
       "      <td>1</td>\n",
       "      <td>2010-03-05</td>\n",
       "      <td>46.50</td>\n",
       "      <td>2.625</td>\n",
       "      <td>NaN</td>\n",
       "      <td>NaN</td>\n",
       "      <td>NaN</td>\n",
       "      <td>NaN</td>\n",
       "      <td>NaN</td>\n",
       "      <td>211.350143</td>\n",
       "      <td>8.106</td>\n",
       "      <td>False</td>\n",
       "    </tr>\n",
       "  </tbody>\n",
       "</table>\n",
       "</div>"
      ],
      "text/plain": [
       "   Store        Date  Temperature  Fuel_Price  MarkDown1  MarkDown2  \\\n",
       "0      1  2010-02-05        42.31       2.572        NaN        NaN   \n",
       "1      1  2010-02-12        38.51       2.548        NaN        NaN   \n",
       "2      1  2010-02-19        39.93       2.514        NaN        NaN   \n",
       "3      1  2010-02-26        46.63       2.561        NaN        NaN   \n",
       "4      1  2010-03-05        46.50       2.625        NaN        NaN   \n",
       "\n",
       "   MarkDown3  MarkDown4  MarkDown5         CPI  Unemployment  IsHoliday  \n",
       "0        NaN        NaN        NaN  211.096358         8.106      False  \n",
       "1        NaN        NaN        NaN  211.242170         8.106       True  \n",
       "2        NaN        NaN        NaN  211.289143         8.106      False  \n",
       "3        NaN        NaN        NaN  211.319643         8.106      False  \n",
       "4        NaN        NaN        NaN  211.350143         8.106      False  "
      ]
     },
     "execution_count": 5,
     "metadata": {},
     "output_type": "execute_result"
    }
   ],
   "source": [
    "Feat.head()"
   ]
  },
  {
   "cell_type": "code",
   "execution_count": 6,
   "metadata": {},
   "outputs": [
    {
     "name": "stdout",
     "output_type": "stream",
     "text": [
      "      Store  Size\n",
      "Type             \n",
      "A        22    22\n",
      "B        17    17\n",
      "C         6     6\n"
     ]
    }
   ],
   "source": [
    "sizes = Store.groupby(['Type']).count() \n",
    "print(sizes)"
   ]
  },
  {
   "cell_type": "code",
   "execution_count": 7,
   "metadata": {},
   "outputs": [
    {
     "data": {
      "image/png": "[encoded data removed]",
      "text/plain": [
       "<Figure size 432x288 with 1 Axes>"
      ]
     },
     "metadata": {},
     "output_type": "display_data"
    }
   ],
   "source": [
    "labels = 'A store','B store','C store'\n",
    "sizes = [(22/(45))*100,(17/(45))*100,(6/(45))*100]\n",
    "fig1, ax1 = plt.subplots()\n",
    "ax1.pie(sizes, labels=labels, autopct='%1.1f%%',\n",
    "        shadow=True, startangle=90)\n",
    "ax1.axis('equal') \n",
    "plt.show()"
   ]
  },
  {
   "cell_type": "code",
   "execution_count": 8,
   "metadata": {},
   "outputs": [
    {
     "data": {
      "text/plain": [
       "Store              0\n",
       "Date               0\n",
       "Temperature        0\n",
       "Fuel_Price         0\n",
       "MarkDown1       4158\n",
       "MarkDown2       5269\n",
       "MarkDown3       4577\n",
       "MarkDown4       4726\n",
       "MarkDown5       4140\n",
       "CPI              585\n",
       "Unemployment     585\n",
       "IsHoliday          0\n",
       "dtype: int64"
      ]
     },
     "execution_count": 8,
     "metadata": {},
     "output_type": "execute_result"
    }
   ],
   "source": [
    "# for train,test and store data i checked as there are no null but features has\n",
    "Feat.isnull().sum()"
   ]
  },
  {
   "cell_type": "code",
   "execution_count": 87,
   "metadata": {},
   "outputs": [],
   "source": [
    "from statistics import mean"
   ]
  },
  {
   "cell_type": "code",
   "execution_count": 88,
   "metadata": {},
   "outputs": [],
   "source": [
    "Feat['CPI'] = Feat['CPI'].fillna(mean(Feat['CPI']))\n",
    "Feat['Unemployment'] = Feat['Unemployment'].fillna(mean(Feat['Unemployment']))\n",
    "Feat['MarkDown1'] = Feat['MarkDown1'].fillna(0)\n",
    "Feat['MarkDown2'] = Feat['MarkDown2'].fillna(0)\n",
    "Feat['MarkDown3'] = Feat['MarkDown3'].fillna(0)\n",
    "Feat['MarkDown4'] = Feat['MarkDown4'].fillna(0)\n",
    "Feat['MarkDown5'] = Feat['MarkDown5'].fillna(0)"
   ]
  },
  {
   "cell_type": "code",
   "execution_count": 89,
   "metadata": {},
   "outputs": [
    {
     "data": {
      "text/plain": [
       "Store             0\n",
       "Date              0\n",
       "Temperature       0\n",
       "Fuel_Price        0\n",
       "MarkDown1         0\n",
       "MarkDown2         0\n",
       "MarkDown3         0\n",
       "MarkDown4         0\n",
       "MarkDown5         0\n",
       "CPI             585\n",
       "Unemployment    585\n",
       "IsHoliday         0\n",
       "dtype: int64"
      ]
     },
     "execution_count": 89,
     "metadata": {},
     "output_type": "execute_result"
    }
   ],
   "source": [
    "Feat.isnull().sum()"
   ]
  },
  {
   "cell_type": "markdown",
   "metadata": {},
   "source": [
    "## Merging feature data with train data"
   ]
  },
  {
   "cell_type": "code",
   "execution_count": 90,
   "metadata": {},
   "outputs": [],
   "source": [
    "Test_1 = pd.merge(Feat, Store)\n",
    "Test = pd.merge(Test_1, Test)\n"
   ]
  },
  {
   "cell_type": "code",
   "execution_count": 91,
   "metadata": {},
   "outputs": [],
   "source": [
    "Train_1 = pd.merge(Feat, Store)\n",
    "Train = pd.merge(Train_1, Train)"
   ]
  },
  {
   "cell_type": "code",
   "execution_count": 92,
   "metadata": {},
   "outputs": [
    {
     "name": "stdout",
     "output_type": "stream",
     "text": [
      "<class 'pandas.core.frame.DataFrame'>\n",
      "Int64Index: 421570 entries, 0 to 421569\n",
      "Data columns (total 16 columns):\n",
      "Store           421570 non-null int64\n",
      "Date            421570 non-null object\n",
      "Temperature     421570 non-null float64\n",
      "Fuel_Price      421570 non-null float64\n",
      "MarkDown1       421570 non-null float64\n",
      "MarkDown2       421570 non-null float64\n",
      "MarkDown3       421570 non-null float64\n",
      "MarkDown4       421570 non-null float64\n",
      "MarkDown5       421570 non-null float64\n",
      "CPI             421570 non-null float64\n",
      "Unemployment    421570 non-null float64\n",
      "IsHoliday       421570 non-null bool\n",
      "Type            421570 non-null object\n",
      "Size            421570 non-null int64\n",
      "Dept            421570 non-null int64\n",
      "Weekly_Sales    421570 non-null float64\n",
      "dtypes: bool(1), float64(10), int64(3), object(2)\n",
      "memory usage: 51.9+ MB\n"
     ]
    }
   ],
   "source": [
    "Train.info()"
   ]
  },
  {
   "cell_type": "code",
   "execution_count": 93,
   "metadata": {},
   "outputs": [],
   "source": [
    "import seaborn as sns"
   ]
  },
  {
   "cell_type": "code",
   "execution_count": 94,
   "metadata": {},
   "outputs": [
    {
     "data": {
      "text/plain": [
       "<matplotlib.axes._subplots.AxesSubplot at 0x651543dd30>"
      ]
     },
     "execution_count": 94,
     "metadata": {},
     "output_type": "execute_result"
    },
    {
     "data": {
      "image/png": "[encoded data removed]",
      "text/plain": [
       "<Figure size 576x396 with 1 Axes>"
      ]
     },
     "metadata": {},
     "output_type": "display_data"
    }
   ],
   "source": [
    "sns.barplot(x=Train[\"Weekly_Sales\"],y=Train[\"Type\"])"
   ]
  },
  {
   "cell_type": "markdown",
   "metadata": {},
   "source": [
    "From typa A is having higher sales"
   ]
  },
  {
   "cell_type": "code",
   "execution_count": 95,
   "metadata": {},
   "outputs": [
    {
     "data": {
      "text/plain": [
       "<matplotlib.axes._subplots.AxesSubplot at 0x65154b9358>"
      ]
     },
     "execution_count": 95,
     "metadata": {},
     "output_type": "execute_result"
    },
    {
     "data": {
      "image/png": "[encoded data removed]",
      "text/plain": [
       "<Figure size 576x396 with 1 Axes>"
      ]
     },
     "metadata": {},
     "output_type": "display_data"
    }
   ],
   "source": [
    "Train.plot(kind='line', x='Dept', y='Weekly_Sales', alpha=1.5,fig=(4,5))"
   ]
  },
  {
   "cell_type": "markdown",
   "metadata": {},
   "source": [
    "## exploratory Data analysis"
   ]
  },
  {
   "cell_type": "code",
   "execution_count": 96,
   "metadata": {},
   "outputs": [],
   "source": [
    "numeric_var_train=[key for key in dict(Train.dtypes) if dict(Train.dtypes)[key] in ['float64', 'int64', 'float32', 'int32','bool']]\n",
    "cat_var_train=[key for key in dict(Train.dtypes) if dict(Train.dtypes)[key] in ['object']]\n"
   ]
  },
  {
   "cell_type": "code",
   "execution_count": 97,
   "metadata": {},
   "outputs": [
    {
     "name": "stdout",
     "output_type": "stream",
     "text": [
      "   Store  Temperature  Fuel_Price  MarkDown1  MarkDown2  MarkDown3  MarkDown4  \\\n",
      "0      1        42.31       2.572        0.0        0.0        0.0        0.0   \n",
      "1      1        42.31       2.572        0.0        0.0        0.0        0.0   \n",
      "2      1        42.31       2.572        0.0        0.0        0.0        0.0   \n",
      "3      1        42.31       2.572        0.0        0.0        0.0        0.0   \n",
      "4      1        42.31       2.572        0.0        0.0        0.0        0.0   \n",
      "\n",
      "   MarkDown5         CPI  Unemployment  IsHoliday    Size  Dept  Weekly_Sales  \n",
      "0        0.0  211.096358         8.106      False  151315     1      24924.50  \n",
      "1        0.0  211.096358         8.106      False  151315     2      50605.27  \n",
      "2        0.0  211.096358         8.106      False  151315     3      13740.12  \n",
      "3        0.0  211.096358         8.106      False  151315     4      39954.04  \n",
      "4        0.0  211.096358         8.106      False  151315     5      32229.38  \n",
      "         Date Type\n",
      "0  2010-02-05    A\n",
      "1  2010-02-05    A\n",
      "2  2010-02-05    A\n",
      "3  2010-02-05    A\n",
      "4  2010-02-05    A\n"
     ]
    }
   ],
   "source": [
    "\n",
    "# Train Numerical Data\n",
    "Train_num=Train[numeric_var_train]\n",
    "# Train Categorical Data\n",
    "Train_cat=Train[cat_var_train]\n",
    "\n",
    "\n",
    "print(Train_num.head())\n",
    "print(Train_cat.head())"
   ]
  },
  {
   "cell_type": "code",
   "execution_count": 98,
   "metadata": {},
   "outputs": [],
   "source": [
    "Train_num = Train_num.apply(lambda x: x.clip(lower = x.dropna().quantile(0.01), upper = x.quantile(0.99)))"
   ]
  },
  {
   "cell_type": "code",
   "execution_count": 99,
   "metadata": {},
   "outputs": [
    {
     "data": {
      "text/html": [
       "<div>\n",
       "<style scoped>\n",
       "    .dataframe tbody tr th:only-of-type {\n",
       "        vertical-align: middle;\n",
       "    }\n",
       "\n",
       "    .dataframe tbody tr th {\n",
       "        vertical-align: top;\n",
       "    }\n",
       "\n",
       "    .dataframe thead th {\n",
       "        text-align: right;\n",
       "    }\n",
       "</style>\n",
       "<table border=\"1\" class=\"dataframe\">\n",
       "  <thead>\n",
       "    <tr style=\"text-align: right;\">\n",
       "      <th></th>\n",
       "      <th>N</th>\n",
       "      <th>NMISS</th>\n",
       "      <th>SUM</th>\n",
       "      <th>MEAN</th>\n",
       "      <th>MEDIAN</th>\n",
       "      <th>STD</th>\n",
       "      <th>VAR</th>\n",
       "      <th>MIN</th>\n",
       "      <th>P1</th>\n",
       "      <th>P5</th>\n",
       "      <th>P10</th>\n",
       "      <th>P25</th>\n",
       "      <th>P50</th>\n",
       "      <th>P75</th>\n",
       "      <th>P90</th>\n",
       "      <th>P95</th>\n",
       "      <th>P99</th>\n",
       "      <th>MAX</th>\n",
       "    </tr>\n",
       "  </thead>\n",
       "  <tbody>\n",
       "    <tr>\n",
       "      <th>Store</th>\n",
       "      <td>421570</td>\n",
       "      <td>0</td>\n",
       "      <td>9.35908e+06</td>\n",
       "      <td>22.2005</td>\n",
       "      <td>22</td>\n",
       "      <td>12.7853</td>\n",
       "      <td>163.464</td>\n",
       "      <td>1</td>\n",
       "      <td>1</td>\n",
       "      <td>3</td>\n",
       "      <td>5</td>\n",
       "      <td>11</td>\n",
       "      <td>22</td>\n",
       "      <td>33</td>\n",
       "      <td>40</td>\n",
       "      <td>43</td>\n",
       "      <td>45</td>\n",
       "      <td>45</td>\n",
       "    </tr>\n",
       "    <tr>\n",
       "      <th>Temperature</th>\n",
       "      <td>421570</td>\n",
       "      <td>0</td>\n",
       "      <td>2.53398e+07</td>\n",
       "      <td>60.1081</td>\n",
       "      <td>62.09</td>\n",
       "      <td>18.2973</td>\n",
       "      <td>334.791</td>\n",
       "      <td>18.3</td>\n",
       "      <td>18.3</td>\n",
       "      <td>27.31</td>\n",
       "      <td>33.98</td>\n",
       "      <td>46.68</td>\n",
       "      <td>62.09</td>\n",
       "      <td>74.28</td>\n",
       "      <td>83.58</td>\n",
       "      <td>87.27</td>\n",
       "      <td>92.81</td>\n",
       "      <td>92.81</td>\n",
       "    </tr>\n",
       "    <tr>\n",
       "      <th>Fuel_Price</th>\n",
       "      <td>421570</td>\n",
       "      <td>0</td>\n",
       "      <td>1.41659e+06</td>\n",
       "      <td>3.36026</td>\n",
       "      <td>3.452</td>\n",
       "      <td>0.456205</td>\n",
       "      <td>0.208123</td>\n",
       "      <td>2.565</td>\n",
       "      <td>2.565</td>\n",
       "      <td>2.653</td>\n",
       "      <td>2.72</td>\n",
       "      <td>2.933</td>\n",
       "      <td>3.452</td>\n",
       "      <td>3.738</td>\n",
       "      <td>3.917</td>\n",
       "      <td>4.029</td>\n",
       "      <td>4.202</td>\n",
       "      <td>4.202</td>\n",
       "    </tr>\n",
       "    <tr>\n",
       "      <th>MarkDown1</th>\n",
       "      <td>421570</td>\n",
       "      <td>0</td>\n",
       "      <td>1.03352e+09</td>\n",
       "      <td>2451.6</td>\n",
       "      <td>0</td>\n",
       "      <td>5086.69</td>\n",
       "      <td>2.58744e+07</td>\n",
       "      <td>0</td>\n",
       "      <td>0</td>\n",
       "      <td>0</td>\n",
       "      <td>0</td>\n",
       "      <td>0</td>\n",
       "      <td>0</td>\n",
       "      <td>2809.05</td>\n",
       "      <td>8624.56</td>\n",
       "      <td>12407.7</td>\n",
       "      <td>28177.3</td>\n",
       "      <td>28177.3</td>\n",
       "    </tr>\n",
       "    <tr>\n",
       "      <th>MarkDown2</th>\n",
       "      <td>421570</td>\n",
       "      <td>0</td>\n",
       "      <td>2.80284e+08</td>\n",
       "      <td>664.857</td>\n",
       "      <td>0</td>\n",
       "      <td>2886.73</td>\n",
       "      <td>8.33319e+06</td>\n",
       "      <td>0</td>\n",
       "      <td>0</td>\n",
       "      <td>0</td>\n",
       "      <td>0</td>\n",
       "      <td>0</td>\n",
       "      <td>0</td>\n",
       "      <td>2.2</td>\n",
       "      <td>452.88</td>\n",
       "      <td>3789.56</td>\n",
       "      <td>21813.2</td>\n",
       "      <td>21813.2</td>\n",
       "    </tr>\n",
       "    <tr>\n",
       "      <th>MarkDown3</th>\n",
       "      <td>421570</td>\n",
       "      <td>0</td>\n",
       "      <td>2.36833e+07</td>\n",
       "      <td>56.1789</td>\n",
       "      <td>0</td>\n",
       "      <td>253.764</td>\n",
       "      <td>64396.2</td>\n",
       "      <td>0</td>\n",
       "      <td>0</td>\n",
       "      <td>0</td>\n",
       "      <td>0</td>\n",
       "      <td>0</td>\n",
       "      <td>0</td>\n",
       "      <td>4.54</td>\n",
       "      <td>74.41</td>\n",
       "      <td>216.17</td>\n",
       "      <td>2083.28</td>\n",
       "      <td>2083.28</td>\n",
       "    </tr>\n",
       "    <tr>\n",
       "      <th>MarkDown4</th>\n",
       "      <td>421570</td>\n",
       "      <td>0</td>\n",
       "      <td>3.93621e+08</td>\n",
       "      <td>933.702</td>\n",
       "      <td>0</td>\n",
       "      <td>2579.5</td>\n",
       "      <td>6.65382e+06</td>\n",
       "      <td>0</td>\n",
       "      <td>0</td>\n",
       "      <td>0</td>\n",
       "      <td>0</td>\n",
       "      <td>0</td>\n",
       "      <td>0</td>\n",
       "      <td>425.29</td>\n",
       "      <td>2828.89</td>\n",
       "      <td>5163.63</td>\n",
       "      <td>16822.5</td>\n",
       "      <td>16822.5</td>\n",
       "    </tr>\n",
       "    <tr>\n",
       "      <th>MarkDown5</th>\n",
       "      <td>421570</td>\n",
       "      <td>0</td>\n",
       "      <td>6.42232e+08</td>\n",
       "      <td>1523.43</td>\n",
       "      <td>0</td>\n",
       "      <td>2860.63</td>\n",
       "      <td>8.18319e+06</td>\n",
       "      <td>0</td>\n",
       "      <td>0</td>\n",
       "      <td>0</td>\n",
       "      <td>0</td>\n",
       "      <td>0</td>\n",
       "      <td>0</td>\n",
       "      <td>2168.04</td>\n",
       "      <td>5284.63</td>\n",
       "      <td>7456.15</td>\n",
       "      <td>15590.5</td>\n",
       "      <td>15590.5</td>\n",
       "    </tr>\n",
       "    <tr>\n",
       "      <th>CPI</th>\n",
       "      <td>421570</td>\n",
       "      <td>0</td>\n",
       "      <td>7.21709e+07</td>\n",
       "      <td>171.196</td>\n",
       "      <td>182.319</td>\n",
       "      <td>39.1496</td>\n",
       "      <td>1532.69</td>\n",
       "      <td>126.112</td>\n",
       "      <td>126.112</td>\n",
       "      <td>126.496</td>\n",
       "      <td>128.824</td>\n",
       "      <td>132.023</td>\n",
       "      <td>182.319</td>\n",
       "      <td>212.417</td>\n",
       "      <td>219.444</td>\n",
       "      <td>221.942</td>\n",
       "      <td>225.474</td>\n",
       "      <td>225.474</td>\n",
       "    </tr>\n",
       "    <tr>\n",
       "      <th>Unemployment</th>\n",
       "      <td>421570</td>\n",
       "      <td>0</td>\n",
       "      <td>3.35568e+06</td>\n",
       "      <td>7.95997</td>\n",
       "      <td>7.866</td>\n",
       "      <td>1.85942</td>\n",
       "      <td>3.45744</td>\n",
       "      <td>4.156</td>\n",
       "      <td>4.156</td>\n",
       "      <td>5.326</td>\n",
       "      <td>5.965</td>\n",
       "      <td>6.891</td>\n",
       "      <td>7.866</td>\n",
       "      <td>8.572</td>\n",
       "      <td>9.816</td>\n",
       "      <td>12.187</td>\n",
       "      <td>14.18</td>\n",
       "      <td>14.18</td>\n",
       "    </tr>\n",
       "    <tr>\n",
       "      <th>IsHoliday</th>\n",
       "      <td>421570</td>\n",
       "      <td>0</td>\n",
       "      <td>29661</td>\n",
       "      <td>0.0703584</td>\n",
       "      <td>0</td>\n",
       "      <td>0.25575</td>\n",
       "      <td>0.0654083</td>\n",
       "      <td>False</td>\n",
       "      <td>0</td>\n",
       "      <td>0</td>\n",
       "      <td>0</td>\n",
       "      <td>0</td>\n",
       "      <td>0</td>\n",
       "      <td>0</td>\n",
       "      <td>0</td>\n",
       "      <td>1</td>\n",
       "      <td>1</td>\n",
       "      <td>True</td>\n",
       "    </tr>\n",
       "    <tr>\n",
       "      <th>Size</th>\n",
       "      <td>421570</td>\n",
       "      <td>0</td>\n",
       "      <td>5.76404e+10</td>\n",
       "      <td>136728</td>\n",
       "      <td>140167</td>\n",
       "      <td>60980.6</td>\n",
       "      <td>3.71863e+09</td>\n",
       "      <td>34875</td>\n",
       "      <td>34875</td>\n",
       "      <td>39690</td>\n",
       "      <td>39910</td>\n",
       "      <td>93638</td>\n",
       "      <td>140167</td>\n",
       "      <td>202505</td>\n",
       "      <td>204184</td>\n",
       "      <td>206302</td>\n",
       "      <td>219622</td>\n",
       "      <td>219622</td>\n",
       "    </tr>\n",
       "    <tr>\n",
       "      <th>Dept</th>\n",
       "      <td>421570</td>\n",
       "      <td>0</td>\n",
       "      <td>1.8658e+07</td>\n",
       "      <td>44.2583</td>\n",
       "      <td>37</td>\n",
       "      <td>30.4884</td>\n",
       "      <td>929.544</td>\n",
       "      <td>1</td>\n",
       "      <td>1</td>\n",
       "      <td>4</td>\n",
       "      <td>7</td>\n",
       "      <td>18</td>\n",
       "      <td>37</td>\n",
       "      <td>74</td>\n",
       "      <td>92</td>\n",
       "      <td>95</td>\n",
       "      <td>98</td>\n",
       "      <td>98</td>\n",
       "    </tr>\n",
       "    <tr>\n",
       "      <th>Weekly_Sales</th>\n",
       "      <td>421570</td>\n",
       "      <td>0</td>\n",
       "      <td>6.59948e+09</td>\n",
       "      <td>15654.5</td>\n",
       "      <td>7612.03</td>\n",
       "      <td>20781.7</td>\n",
       "      <td>4.31878e+08</td>\n",
       "      <td>5</td>\n",
       "      <td>5</td>\n",
       "      <td>59.9745</td>\n",
       "      <td>291.097</td>\n",
       "      <td>2079.65</td>\n",
       "      <td>7612.03</td>\n",
       "      <td>20205.9</td>\n",
       "      <td>42845.7</td>\n",
       "      <td>61202</td>\n",
       "      <td>106478</td>\n",
       "      <td>106480</td>\n",
       "    </tr>\n",
       "  </tbody>\n",
       "</table>\n",
       "</div>"
      ],
      "text/plain": [
       "                   N NMISS          SUM       MEAN   MEDIAN       STD  \\\n",
       "Store         421570     0  9.35908e+06    22.2005       22   12.7853   \n",
       "Temperature   421570     0  2.53398e+07    60.1081    62.09   18.2973   \n",
       "Fuel_Price    421570     0  1.41659e+06    3.36026    3.452  0.456205   \n",
       "MarkDown1     421570     0  1.03352e+09     2451.6        0   5086.69   \n",
       "MarkDown2     421570     0  2.80284e+08    664.857        0   2886.73   \n",
       "MarkDown3     421570     0  2.36833e+07    56.1789        0   253.764   \n",
       "MarkDown4     421570     0  3.93621e+08    933.702        0    2579.5   \n",
       "MarkDown5     421570     0  6.42232e+08    1523.43        0   2860.63   \n",
       "CPI           421570     0  7.21709e+07    171.196  182.319   39.1496   \n",
       "Unemployment  421570     0  3.35568e+06    7.95997    7.866   1.85942   \n",
       "IsHoliday     421570     0        29661  0.0703584        0   0.25575   \n",
       "Size          421570     0  5.76404e+10     136728   140167   60980.6   \n",
       "Dept          421570     0   1.8658e+07    44.2583       37   30.4884   \n",
       "Weekly_Sales  421570     0  6.59948e+09    15654.5  7612.03   20781.7   \n",
       "\n",
       "                      VAR      MIN       P1       P5      P10      P25  \\\n",
       "Store             163.464        1        1        3        5       11   \n",
       "Temperature       334.791     18.3     18.3    27.31    33.98    46.68   \n",
       "Fuel_Price       0.208123    2.565    2.565    2.653     2.72    2.933   \n",
       "MarkDown1     2.58744e+07        0        0        0        0        0   \n",
       "MarkDown2     8.33319e+06        0        0        0        0        0   \n",
       "MarkDown3         64396.2        0        0        0        0        0   \n",
       "MarkDown4     6.65382e+06        0        0        0        0        0   \n",
       "MarkDown5     8.18319e+06        0        0        0        0        0   \n",
       "CPI               1532.69  126.112  126.112  126.496  128.824  132.023   \n",
       "Unemployment      3.45744    4.156    4.156    5.326    5.965    6.891   \n",
       "IsHoliday       0.0654083    False        0        0        0        0   \n",
       "Size          3.71863e+09    34875    34875    39690    39910    93638   \n",
       "Dept              929.544        1        1        4        7       18   \n",
       "Weekly_Sales  4.31878e+08        5        5  59.9745  291.097  2079.65   \n",
       "\n",
       "                  P50      P75      P90      P95      P99      MAX  \n",
       "Store              22       33       40       43       45       45  \n",
       "Temperature     62.09    74.28    83.58    87.27    92.81    92.81  \n",
       "Fuel_Price      3.452    3.738    3.917    4.029    4.202    4.202  \n",
       "MarkDown1           0  2809.05  8624.56  12407.7  28177.3  28177.3  \n",
       "MarkDown2           0      2.2   452.88  3789.56  21813.2  21813.2  \n",
       "MarkDown3           0     4.54    74.41   216.17  2083.28  2083.28  \n",
       "MarkDown4           0   425.29  2828.89  5163.63  16822.5  16822.5  \n",
       "MarkDown5           0  2168.04  5284.63  7456.15  15590.5  15590.5  \n",
       "CPI           182.319  212.417  219.444  221.942  225.474  225.474  \n",
       "Unemployment    7.866    8.572    9.816   12.187    14.18    14.18  \n",
       "IsHoliday           0        0        0        1        1     True  \n",
       "Size           140167   202505   204184   206302   219622   219622  \n",
       "Dept               37       74       92       95       98       98  \n",
       "Weekly_Sales  7612.03  20205.9  42845.7    61202   106478   106480  "
      ]
     },
     "execution_count": 99,
     "metadata": {},
     "output_type": "execute_result"
    }
   ],
   "source": [
    "# Creating Data audit Report\n",
    "# Use a general function that returns multiple values    \n",
    "def var_summary(x):\n",
    "    return pd.Series([x.count(), x.isnull().sum(), x.sum(), x.mean(), x.median(),  x.std(), x.var(), x.min(), x.dropna().quantile(0.01), x.dropna().quantile(0.05),x.dropna().quantile(0.10),x.dropna().quantile(0.25),x.dropna().quantile(0.50),x.dropna().quantile(0.75), x.dropna().quantile(0.90),x.dropna().quantile(0.95), x.dropna().quantile(0.99),x.max()], \n",
    "                  index=['N', 'NMISS', 'SUM', 'MEAN','MEDIAN', 'STD', 'VAR', 'MIN', 'P1' , 'P5' ,'P10' ,'P25' ,'P50' ,'P75' ,'P90' ,'P95' ,'P99' ,'MAX'])\n",
    " \n",
    "num_summary=Train_num.apply(lambda x: var_summary(x)).T\n",
    "\n",
    "num_summary"
   ]
  },
  {
   "cell_type": "code",
   "execution_count": 100,
   "metadata": {},
   "outputs": [
    {
     "data": {
      "text/html": [
       "<div>\n",
       "<style scoped>\n",
       "    .dataframe tbody tr th:only-of-type {\n",
       "        vertical-align: middle;\n",
       "    }\n",
       "\n",
       "    .dataframe tbody tr th {\n",
       "        vertical-align: top;\n",
       "    }\n",
       "\n",
       "    .dataframe thead th {\n",
       "        text-align: right;\n",
       "    }\n",
       "</style>\n",
       "<table border=\"1\" class=\"dataframe\">\n",
       "  <thead>\n",
       "    <tr style=\"text-align: right;\">\n",
       "      <th></th>\n",
       "      <th>Date</th>\n",
       "      <th>Type</th>\n",
       "    </tr>\n",
       "  </thead>\n",
       "  <tbody>\n",
       "    <tr>\n",
       "      <th>N</th>\n",
       "      <td>421570</td>\n",
       "      <td>421570</td>\n",
       "    </tr>\n",
       "    <tr>\n",
       "      <th>NMISS</th>\n",
       "      <td>0</td>\n",
       "      <td>0</td>\n",
       "    </tr>\n",
       "    <tr>\n",
       "      <th>ColumnsNames</th>\n",
       "      <td>2011-12-23    3027\n",
       "2011-11-25    3021\n",
       "2011-12-...</td>\n",
       "      <td>A    215478\n",
       "B    163495\n",
       "C     42597\n",
       "Name: Type...</td>\n",
       "    </tr>\n",
       "  </tbody>\n",
       "</table>\n",
       "</div>"
      ],
      "text/plain": [
       "                                                           Date  \\\n",
       "N                                                        421570   \n",
       "NMISS                                                         0   \n",
       "ColumnsNames  2011-12-23    3027\n",
       "2011-11-25    3021\n",
       "2011-12-...   \n",
       "\n",
       "                                                           Type  \n",
       "N                                                        421570  \n",
       "NMISS                                                         0  \n",
       "ColumnsNames  A    215478\n",
       "B    163495\n",
       "C     42597\n",
       "Name: Type...  "
      ]
     },
     "execution_count": 100,
     "metadata": {},
     "output_type": "execute_result"
    }
   ],
   "source": [
    "\n",
    "def cat_summary(x):\n",
    "    return pd.Series([x.count(), x.isnull().sum(), x.value_counts()], \n",
    "                  index=['N', 'NMISS', 'ColumnsNames'])\n",
    "\n",
    "cat_summary=Train_cat.apply(lambda x: cat_summary(x))\n",
    "cat_summary"
   ]
  },
  {
   "cell_type": "code",
   "execution_count": 101,
   "metadata": {},
   "outputs": [],
   "source": [
    "numeric_var_train=[key for key in dict(Test.dtypes) if dict(Test.dtypes)[key] in ['float64', 'int64', 'float32', 'int32','bool']]\n",
    "cat_var_train=[key for key in dict(Test.dtypes) if dict(Test.dtypes)[key] in ['object']]"
   ]
  },
  {
   "cell_type": "code",
   "execution_count": 102,
   "metadata": {},
   "outputs": [
    {
     "name": "stdout",
     "output_type": "stream",
     "text": [
      "   Store  Temperature  Fuel_Price  MarkDown1  MarkDown2  MarkDown3  MarkDown4  \\\n",
      "0      1        55.32       3.386    6766.44     5147.7      50.82     3639.9   \n",
      "1      1        55.32       3.386    6766.44     5147.7      50.82     3639.9   \n",
      "2      1        55.32       3.386    6766.44     5147.7      50.82     3639.9   \n",
      "3      1        55.32       3.386    6766.44     5147.7      50.82     3639.9   \n",
      "4      1        55.32       3.386    6766.44     5147.7      50.82     3639.9   \n",
      "\n",
      "   MarkDown5         CPI  Unemployment  IsHoliday    Size  Dept  \n",
      "0    2737.42  223.462779         6.573      False  151315     1  \n",
      "1    2737.42  223.462779         6.573      False  151315     2  \n",
      "2    2737.42  223.462779         6.573      False  151315     3  \n",
      "3    2737.42  223.462779         6.573      False  151315     4  \n",
      "4    2737.42  223.462779         6.573      False  151315     5  \n",
      "         Date Type\n",
      "0  2012-11-02    A\n",
      "1  2012-11-02    A\n",
      "2  2012-11-02    A\n",
      "3  2012-11-02    A\n",
      "4  2012-11-02    A\n"
     ]
    }
   ],
   "source": [
    "# Train Numerical Data\n",
    "Test_num=Test[numeric_var_train]\n",
    "# Train Categorical Data\n",
    "Test_cat=Test[cat_var_train]\n",
    "\n",
    "print(Test_num.head())\n",
    "print(Test_cat.head())"
   ]
  },
  {
   "cell_type": "code",
   "execution_count": 103,
   "metadata": {},
   "outputs": [],
   "source": [
    "Test_num = Test_num.apply(lambda x: x.clip(lower = x.dropna().quantile(0.01), upper = x.quantile(0.99)))"
   ]
  },
  {
   "cell_type": "code",
   "execution_count": 104,
   "metadata": {},
   "outputs": [
    {
     "data": {
      "text/html": [
       "<div>\n",
       "<style scoped>\n",
       "    .dataframe tbody tr th:only-of-type {\n",
       "        vertical-align: middle;\n",
       "    }\n",
       "\n",
       "    .dataframe tbody tr th {\n",
       "        vertical-align: top;\n",
       "    }\n",
       "\n",
       "    .dataframe thead th {\n",
       "        text-align: right;\n",
       "    }\n",
       "</style>\n",
       "<table border=\"1\" class=\"dataframe\">\n",
       "  <thead>\n",
       "    <tr style=\"text-align: right;\">\n",
       "      <th></th>\n",
       "      <th>N</th>\n",
       "      <th>NMISS</th>\n",
       "      <th>SUM</th>\n",
       "      <th>MEAN</th>\n",
       "      <th>MEDIAN</th>\n",
       "      <th>STD</th>\n",
       "      <th>VAR</th>\n",
       "      <th>MIN</th>\n",
       "      <th>P1</th>\n",
       "      <th>P5</th>\n",
       "      <th>P10</th>\n",
       "      <th>P25</th>\n",
       "      <th>P50</th>\n",
       "      <th>P75</th>\n",
       "      <th>P90</th>\n",
       "      <th>P95</th>\n",
       "      <th>P99</th>\n",
       "      <th>MAX</th>\n",
       "    </tr>\n",
       "  </thead>\n",
       "  <tbody>\n",
       "    <tr>\n",
       "      <th>Store</th>\n",
       "      <td>115064</td>\n",
       "      <td>0</td>\n",
       "      <td>2.55882e+06</td>\n",
       "      <td>22.2382</td>\n",
       "      <td>22</td>\n",
       "      <td>12.8099</td>\n",
       "      <td>164.094</td>\n",
       "      <td>1</td>\n",
       "      <td>1</td>\n",
       "      <td>3</td>\n",
       "      <td>5</td>\n",
       "      <td>11</td>\n",
       "      <td>22</td>\n",
       "      <td>33</td>\n",
       "      <td>40</td>\n",
       "      <td>43</td>\n",
       "      <td>45</td>\n",
       "      <td>45</td>\n",
       "    </tr>\n",
       "    <tr>\n",
       "      <th>Temperature</th>\n",
       "      <td>115064</td>\n",
       "      <td>0</td>\n",
       "      <td>6.21078e+06</td>\n",
       "      <td>53.9768</td>\n",
       "      <td>54.47</td>\n",
       "      <td>18.4931</td>\n",
       "      <td>341.994</td>\n",
       "      <td>11.44</td>\n",
       "      <td>11.44</td>\n",
       "      <td>23.98</td>\n",
       "      <td>29.97</td>\n",
       "      <td>39.82</td>\n",
       "      <td>54.47</td>\n",
       "      <td>67.35</td>\n",
       "      <td>79.48</td>\n",
       "      <td>83.82</td>\n",
       "      <td>92.14</td>\n",
       "      <td>92.14</td>\n",
       "    </tr>\n",
       "    <tr>\n",
       "      <th>Fuel_Price</th>\n",
       "      <td>115064</td>\n",
       "      <td>0</td>\n",
       "      <td>412138</td>\n",
       "      <td>3.58182</td>\n",
       "      <td>3.606</td>\n",
       "      <td>0.237622</td>\n",
       "      <td>0.0564642</td>\n",
       "      <td>2.957</td>\n",
       "      <td>2.957</td>\n",
       "      <td>3.161</td>\n",
       "      <td>3.227</td>\n",
       "      <td>3.431</td>\n",
       "      <td>3.606</td>\n",
       "      <td>3.766</td>\n",
       "      <td>3.866</td>\n",
       "      <td>3.951</td>\n",
       "      <td>4.079</td>\n",
       "      <td>4.079</td>\n",
       "    </tr>\n",
       "    <tr>\n",
       "      <th>MarkDown1</th>\n",
       "      <td>115064</td>\n",
       "      <td>0</td>\n",
       "      <td>8.7086e+08</td>\n",
       "      <td>7568.48</td>\n",
       "      <td>4828.72</td>\n",
       "      <td>9944.58</td>\n",
       "      <td>9.88946e+07</td>\n",
       "      <td>17.01</td>\n",
       "      <td>17.01</td>\n",
       "      <td>178.431</td>\n",
       "      <td>448.82</td>\n",
       "      <td>1963.55</td>\n",
       "      <td>4828.72</td>\n",
       "      <td>9427.41</td>\n",
       "      <td>15325</td>\n",
       "      <td>23140.9</td>\n",
       "      <td>65757.6</td>\n",
       "      <td>65757.6</td>\n",
       "    </tr>\n",
       "    <tr>\n",
       "      <th>MarkDown2</th>\n",
       "      <td>115064</td>\n",
       "      <td>0</td>\n",
       "      <td>3.10844e+08</td>\n",
       "      <td>2701.49</td>\n",
       "      <td>316.88</td>\n",
       "      <td>6743.98</td>\n",
       "      <td>4.54813e+07</td>\n",
       "      <td>0</td>\n",
       "      <td>0</td>\n",
       "      <td>0</td>\n",
       "      <td>0</td>\n",
       "      <td>0</td>\n",
       "      <td>316.88</td>\n",
       "      <td>1575.85</td>\n",
       "      <td>6665.52</td>\n",
       "      <td>15810.2</td>\n",
       "      <td>38836.4</td>\n",
       "      <td>38836.4</td>\n",
       "    </tr>\n",
       "    <tr>\n",
       "      <th>MarkDown3</th>\n",
       "      <td>115064</td>\n",
       "      <td>0</td>\n",
       "      <td>2.21708e+08</td>\n",
       "      <td>1926.83</td>\n",
       "      <td>60</td>\n",
       "      <td>10888.8</td>\n",
       "      <td>1.18565e+08</td>\n",
       "      <td>0</td>\n",
       "      <td>0</td>\n",
       "      <td>0</td>\n",
       "      <td>0.24</td>\n",
       "      <td>7.77</td>\n",
       "      <td>60</td>\n",
       "      <td>244.2</td>\n",
       "      <td>649</td>\n",
       "      <td>1621.47</td>\n",
       "      <td>82545</td>\n",
       "      <td>82545</td>\n",
       "    </tr>\n",
       "    <tr>\n",
       "      <th>MarkDown4</th>\n",
       "      <td>115064</td>\n",
       "      <td>0</td>\n",
       "      <td>3.32649e+08</td>\n",
       "      <td>2890.99</td>\n",
       "      <td>600.58</td>\n",
       "      <td>6589.95</td>\n",
       "      <td>4.34275e+07</td>\n",
       "      <td>0</td>\n",
       "      <td>0</td>\n",
       "      <td>0</td>\n",
       "      <td>0</td>\n",
       "      <td>70.37</td>\n",
       "      <td>600.58</td>\n",
       "      <td>2627.85</td>\n",
       "      <td>7170.57</td>\n",
       "      <td>12723.8</td>\n",
       "      <td>43631.9</td>\n",
       "      <td>43631.9</td>\n",
       "    </tr>\n",
       "    <tr>\n",
       "      <th>MarkDown5</th>\n",
       "      <td>115064</td>\n",
       "      <td>0</td>\n",
       "      <td>3.88561e+08</td>\n",
       "      <td>3376.92</td>\n",
       "      <td>2390.43</td>\n",
       "      <td>3229.83</td>\n",
       "      <td>1.04318e+07</td>\n",
       "      <td>269.3</td>\n",
       "      <td>269.3</td>\n",
       "      <td>540.89</td>\n",
       "      <td>770.883</td>\n",
       "      <td>1309.3</td>\n",
       "      <td>2390.43</td>\n",
       "      <td>4227.27</td>\n",
       "      <td>6966.34</td>\n",
       "      <td>9316.71</td>\n",
       "      <td>18599.3</td>\n",
       "      <td>18599.3</td>\n",
       "    </tr>\n",
       "    <tr>\n",
       "      <th>CPI</th>\n",
       "      <td>76902</td>\n",
       "      <td>38162</td>\n",
       "      <td>1.36086e+07</td>\n",
       "      <td>176.961</td>\n",
       "      <td>192.304</td>\n",
       "      <td>41.2384</td>\n",
       "      <td>1700.6</td>\n",
       "      <td>131.279</td>\n",
       "      <td>131.279</td>\n",
       "      <td>131.478</td>\n",
       "      <td>132.031</td>\n",
       "      <td>138.402</td>\n",
       "      <td>192.304</td>\n",
       "      <td>223.245</td>\n",
       "      <td>225.898</td>\n",
       "      <td>227.785</td>\n",
       "      <td>228.73</td>\n",
       "      <td>228.73</td>\n",
       "    </tr>\n",
       "    <tr>\n",
       "      <th>Unemployment</th>\n",
       "      <td>76902</td>\n",
       "      <td>38162</td>\n",
       "      <td>528328</td>\n",
       "      <td>6.87014</td>\n",
       "      <td>6.806</td>\n",
       "      <td>1.58068</td>\n",
       "      <td>2.49854</td>\n",
       "      <td>3.879</td>\n",
       "      <td>3.879</td>\n",
       "      <td>3.932</td>\n",
       "      <td>5.049</td>\n",
       "      <td>5.771</td>\n",
       "      <td>6.806</td>\n",
       "      <td>8.036</td>\n",
       "      <td>8.934</td>\n",
       "      <td>9.91</td>\n",
       "      <td>10.199</td>\n",
       "      <td>10.199</td>\n",
       "    </tr>\n",
       "    <tr>\n",
       "      <th>IsHoliday</th>\n",
       "      <td>115064</td>\n",
       "      <td>0</td>\n",
       "      <td>8928</td>\n",
       "      <td>0.0775916</td>\n",
       "      <td>0</td>\n",
       "      <td>0.267529</td>\n",
       "      <td>0.0715718</td>\n",
       "      <td>False</td>\n",
       "      <td>0</td>\n",
       "      <td>0</td>\n",
       "      <td>0</td>\n",
       "      <td>0</td>\n",
       "      <td>0</td>\n",
       "      <td>0</td>\n",
       "      <td>0</td>\n",
       "      <td>1</td>\n",
       "      <td>1</td>\n",
       "      <td>True</td>\n",
       "    </tr>\n",
       "    <tr>\n",
       "      <th>Size</th>\n",
       "      <td>115064</td>\n",
       "      <td>0</td>\n",
       "      <td>1.5706e+10</td>\n",
       "      <td>136498</td>\n",
       "      <td>140167</td>\n",
       "      <td>61106.9</td>\n",
       "      <td>3.73406e+09</td>\n",
       "      <td>34875</td>\n",
       "      <td>34875</td>\n",
       "      <td>39690</td>\n",
       "      <td>39910</td>\n",
       "      <td>93638</td>\n",
       "      <td>140167</td>\n",
       "      <td>202505</td>\n",
       "      <td>204184</td>\n",
       "      <td>206302</td>\n",
       "      <td>219622</td>\n",
       "      <td>219622</td>\n",
       "    </tr>\n",
       "    <tr>\n",
       "      <th>Dept</th>\n",
       "      <td>115064</td>\n",
       "      <td>0</td>\n",
       "      <td>5.10127e+06</td>\n",
       "      <td>44.3342</td>\n",
       "      <td>37</td>\n",
       "      <td>30.647</td>\n",
       "      <td>939.238</td>\n",
       "      <td>1</td>\n",
       "      <td>1</td>\n",
       "      <td>4</td>\n",
       "      <td>7</td>\n",
       "      <td>18</td>\n",
       "      <td>37</td>\n",
       "      <td>74</td>\n",
       "      <td>92</td>\n",
       "      <td>95</td>\n",
       "      <td>98</td>\n",
       "      <td>98</td>\n",
       "    </tr>\n",
       "  </tbody>\n",
       "</table>\n",
       "</div>"
      ],
      "text/plain": [
       "                   N  NMISS          SUM       MEAN   MEDIAN       STD  \\\n",
       "Store         115064      0  2.55882e+06    22.2382       22   12.8099   \n",
       "Temperature   115064      0  6.21078e+06    53.9768    54.47   18.4931   \n",
       "Fuel_Price    115064      0       412138    3.58182    3.606  0.237622   \n",
       "MarkDown1     115064      0   8.7086e+08    7568.48  4828.72   9944.58   \n",
       "MarkDown2     115064      0  3.10844e+08    2701.49   316.88   6743.98   \n",
       "MarkDown3     115064      0  2.21708e+08    1926.83       60   10888.8   \n",
       "MarkDown4     115064      0  3.32649e+08    2890.99   600.58   6589.95   \n",
       "MarkDown5     115064      0  3.88561e+08    3376.92  2390.43   3229.83   \n",
       "CPI            76902  38162  1.36086e+07    176.961  192.304   41.2384   \n",
       "Unemployment   76902  38162       528328    6.87014    6.806   1.58068   \n",
       "IsHoliday     115064      0         8928  0.0775916        0  0.267529   \n",
       "Size          115064      0   1.5706e+10     136498   140167   61106.9   \n",
       "Dept          115064      0  5.10127e+06    44.3342       37    30.647   \n",
       "\n",
       "                      VAR      MIN       P1       P5      P10      P25  \\\n",
       "Store             164.094        1        1        3        5       11   \n",
       "Temperature       341.994    11.44    11.44    23.98    29.97    39.82   \n",
       "Fuel_Price      0.0564642    2.957    2.957    3.161    3.227    3.431   \n",
       "MarkDown1     9.88946e+07    17.01    17.01  178.431   448.82  1963.55   \n",
       "MarkDown2     4.54813e+07        0        0        0        0        0   \n",
       "MarkDown3     1.18565e+08        0        0        0     0.24     7.77   \n",
       "MarkDown4     4.34275e+07        0        0        0        0    70.37   \n",
       "MarkDown5     1.04318e+07    269.3    269.3   540.89  770.883   1309.3   \n",
       "CPI                1700.6  131.279  131.279  131.478  132.031  138.402   \n",
       "Unemployment      2.49854    3.879    3.879    3.932    5.049    5.771   \n",
       "IsHoliday       0.0715718    False        0        0        0        0   \n",
       "Size          3.73406e+09    34875    34875    39690    39910    93638   \n",
       "Dept              939.238        1        1        4        7       18   \n",
       "\n",
       "                  P50      P75      P90      P95      P99      MAX  \n",
       "Store              22       33       40       43       45       45  \n",
       "Temperature     54.47    67.35    79.48    83.82    92.14    92.14  \n",
       "Fuel_Price      3.606    3.766    3.866    3.951    4.079    4.079  \n",
       "MarkDown1     4828.72  9427.41    15325  23140.9  65757.6  65757.6  \n",
       "MarkDown2      316.88  1575.85  6665.52  15810.2  38836.4  38836.4  \n",
       "MarkDown3          60    244.2      649  1621.47    82545    82545  \n",
       "MarkDown4      600.58  2627.85  7170.57  12723.8  43631.9  43631.9  \n",
       "MarkDown5     2390.43  4227.27  6966.34  9316.71  18599.3  18599.3  \n",
       "CPI           192.304  223.245  225.898  227.785   228.73   228.73  \n",
       "Unemployment    6.806    8.036    8.934     9.91   10.199   10.199  \n",
       "IsHoliday           0        0        0        1        1     True  \n",
       "Size           140167   202505   204184   206302   219622   219622  \n",
       "Dept               37       74       92       95       98       98  "
      ]
     },
     "execution_count": 104,
     "metadata": {},
     "output_type": "execute_result"
    }
   ],
   "source": [
    "# Creating Data audit Report\n",
    "# Use a general function that returns multiple values    \n",
    "def var_summary(x):\n",
    "    return pd.Series([x.count(), x.isnull().sum(), x.sum(), x.mean(), x.median(),  x.std(), x.var(), x.min(), x.dropna().quantile(0.01), x.dropna().quantile(0.05),x.dropna().quantile(0.10),x.dropna().quantile(0.25),x.dropna().quantile(0.50),x.dropna().quantile(0.75), x.dropna().quantile(0.90),x.dropna().quantile(0.95), x.dropna().quantile(0.99),x.max()], \n",
    "                  index=['N', 'NMISS', 'SUM', 'MEAN','MEDIAN', 'STD', 'VAR', 'MIN', 'P1' , 'P5' ,'P10' ,'P25' ,'P50' ,'P75' ,'P90' ,'P95' ,'P99' ,'MAX'])\n",
    " \n",
    "num_summary=Test_num.apply(lambda x: var_summary(x)).T\n",
    "\n",
    "num_summary"
   ]
  },
  {
   "cell_type": "code",
   "execution_count": 105,
   "metadata": {},
   "outputs": [
    {
     "data": {
      "text/html": [
       "<div>\n",
       "<style scoped>\n",
       "    .dataframe tbody tr th:only-of-type {\n",
       "        vertical-align: middle;\n",
       "    }\n",
       "\n",
       "    .dataframe tbody tr th {\n",
       "        vertical-align: top;\n",
       "    }\n",
       "\n",
       "    .dataframe thead th {\n",
       "        text-align: right;\n",
       "    }\n",
       "</style>\n",
       "<table border=\"1\" class=\"dataframe\">\n",
       "  <thead>\n",
       "    <tr style=\"text-align: right;\">\n",
       "      <th></th>\n",
       "      <th>Date</th>\n",
       "      <th>Type</th>\n",
       "    </tr>\n",
       "  </thead>\n",
       "  <tbody>\n",
       "    <tr>\n",
       "      <th>N</th>\n",
       "      <td>115064</td>\n",
       "      <td>115064</td>\n",
       "    </tr>\n",
       "    <tr>\n",
       "      <th>NMISS</th>\n",
       "      <td>0</td>\n",
       "      <td>0</td>\n",
       "    </tr>\n",
       "    <tr>\n",
       "      <th>ColumnsNames</th>\n",
       "      <td>2012-12-21    3002\n",
       "2012-12-07    2989\n",
       "2012-12-...</td>\n",
       "      <td>A    58713\n",
       "B    44500\n",
       "C    11851\n",
       "Name: Type, d...</td>\n",
       "    </tr>\n",
       "  </tbody>\n",
       "</table>\n",
       "</div>"
      ],
      "text/plain": [
       "                                                           Date  \\\n",
       "N                                                        115064   \n",
       "NMISS                                                         0   \n",
       "ColumnsNames  2012-12-21    3002\n",
       "2012-12-07    2989\n",
       "2012-12-...   \n",
       "\n",
       "                                                           Type  \n",
       "N                                                        115064  \n",
       "NMISS                                                         0  \n",
       "ColumnsNames  A    58713\n",
       "B    44500\n",
       "C    11851\n",
       "Name: Type, d...  "
      ]
     },
     "execution_count": 105,
     "metadata": {},
     "output_type": "execute_result"
    }
   ],
   "source": [
    "def cat_summary(x):\n",
    "    return pd.Series([x.count(), x.isnull().sum(), x.value_counts()], \n",
    "                  index=['N', 'NMISS', 'ColumnsNames'])\n",
    "\n",
    "cat_summary=Test_cat.apply(lambda x: cat_summary(x))\n",
    "cat_summary"
   ]
  },
  {
   "cell_type": "code",
   "execution_count": 106,
   "metadata": {},
   "outputs": [],
   "source": [
    "dummies = pd.get_dummies(Train_cat.Type)\n",
    "X = pd.concat([Train_cat, dummies], axis=1)\n",
    "X = X.drop(columns='Type')\n"
   ]
  },
  {
   "cell_type": "code",
   "execution_count": 107,
   "metadata": {},
   "outputs": [],
   "source": [
    "dummies_t = pd.get_dummies(Test_cat.Type)\n",
    "Y = pd.concat([Test_cat, dummies_t], axis=1)\n",
    "Y = Y.drop(columns='Type')"
   ]
  },
  {
   "cell_type": "code",
   "execution_count": 108,
   "metadata": {},
   "outputs": [
    {
     "data": {
      "text/html": [
       "<div>\n",
       "<style scoped>\n",
       "    .dataframe tbody tr th:only-of-type {\n",
       "        vertical-align: middle;\n",
       "    }\n",
       "\n",
       "    .dataframe tbody tr th {\n",
       "        vertical-align: top;\n",
       "    }\n",
       "\n",
       "    .dataframe thead th {\n",
       "        text-align: right;\n",
       "    }\n",
       "</style>\n",
       "<table border=\"1\" class=\"dataframe\">\n",
       "  <thead>\n",
       "    <tr style=\"text-align: right;\">\n",
       "      <th></th>\n",
       "      <th>Date</th>\n",
       "      <th>A</th>\n",
       "      <th>B</th>\n",
       "      <th>C</th>\n",
       "    </tr>\n",
       "  </thead>\n",
       "  <tbody>\n",
       "    <tr>\n",
       "      <th>0</th>\n",
       "      <td>2012-11-02</td>\n",
       "      <td>1</td>\n",
       "      <td>0</td>\n",
       "      <td>0</td>\n",
       "    </tr>\n",
       "    <tr>\n",
       "      <th>1</th>\n",
       "      <td>2012-11-02</td>\n",
       "      <td>1</td>\n",
       "      <td>0</td>\n",
       "      <td>0</td>\n",
       "    </tr>\n",
       "    <tr>\n",
       "      <th>2</th>\n",
       "      <td>2012-11-02</td>\n",
       "      <td>1</td>\n",
       "      <td>0</td>\n",
       "      <td>0</td>\n",
       "    </tr>\n",
       "    <tr>\n",
       "      <th>3</th>\n",
       "      <td>2012-11-02</td>\n",
       "      <td>1</td>\n",
       "      <td>0</td>\n",
       "      <td>0</td>\n",
       "    </tr>\n",
       "    <tr>\n",
       "      <th>4</th>\n",
       "      <td>2012-11-02</td>\n",
       "      <td>1</td>\n",
       "      <td>0</td>\n",
       "      <td>0</td>\n",
       "    </tr>\n",
       "  </tbody>\n",
       "</table>\n",
       "</div>"
      ],
      "text/plain": [
       "         Date  A  B  C\n",
       "0  2012-11-02  1  0  0\n",
       "1  2012-11-02  1  0  0\n",
       "2  2012-11-02  1  0  0\n",
       "3  2012-11-02  1  0  0\n",
       "4  2012-11-02  1  0  0"
      ]
     },
     "execution_count": 108,
     "metadata": {},
     "output_type": "execute_result"
    }
   ],
   "source": [
    "Y.head()"
   ]
  },
  {
   "cell_type": "code",
   "execution_count": 109,
   "metadata": {},
   "outputs": [],
   "source": [
    "#X = pd.concat([Train_cat, dummies], axis=1)\n",
    "Train = pd.concat([Train_num, X],axis=1)\n",
    "#X = pd.concat([Train_cat, dummies], axis=1)\n",
    "Test = pd.concat([Test_num, Y],axis=1)"
   ]
  },
  {
   "cell_type": "code",
   "execution_count": 110,
   "metadata": {},
   "outputs": [
    {
     "data": {
      "text/plain": [
       "Store             int64\n",
       "Temperature     float64\n",
       "Fuel_Price      float64\n",
       "MarkDown1       float64\n",
       "MarkDown2       float64\n",
       "MarkDown3       float64\n",
       "MarkDown4       float64\n",
       "MarkDown5       float64\n",
       "CPI             float64\n",
       "Unemployment    float64\n",
       "IsHoliday          bool\n",
       "Size              int64\n",
       "Dept              int64\n",
       "Weekly_Sales    float64\n",
       "Date             object\n",
       "A                 uint8\n",
       "B                 uint8\n",
       "C                 uint8\n",
       "dtype: object"
      ]
     },
     "execution_count": 110,
     "metadata": {},
     "output_type": "execute_result"
    }
   ],
   "source": [
    "Train.dtypes"
   ]
  },
  {
   "cell_type": "code",
   "execution_count": 111,
   "metadata": {},
   "outputs": [
    {
     "data": {
      "text/plain": [
       "Store             int64\n",
       "Temperature     float64\n",
       "Fuel_Price      float64\n",
       "MarkDown1       float64\n",
       "MarkDown2       float64\n",
       "MarkDown3       float64\n",
       "MarkDown4       float64\n",
       "MarkDown5       float64\n",
       "CPI             float64\n",
       "Unemployment    float64\n",
       "IsHoliday          bool\n",
       "Size              int64\n",
       "Dept              int64\n",
       "Date             object\n",
       "A                 uint8\n",
       "B                 uint8\n",
       "C                 uint8\n",
       "dtype: object"
      ]
     },
     "execution_count": 111,
     "metadata": {},
     "output_type": "execute_result"
    }
   ],
   "source": [
    "Test.dtypes"
   ]
  },
  {
   "cell_type": "markdown",
   "metadata": {},
   "source": [
    "## Profiling data"
   ]
  },
  {
   "cell_type": "code",
   "execution_count": 113,
   "metadata": {},
   "outputs": [],
   "source": [
    "import pandas_profiling"
   ]
  },
  {
   "cell_type": "code",
   "execution_count": null,
   "metadata": {},
   "outputs": [],
   "source": [
    "profile_report = pandas_profiling.ProfileReport(Train)"
   ]
  },
  {
   "cell_type": "code",
   "execution_count": null,
   "metadata": {},
   "outputs": [],
   "source": [
    "profile_report.to_file('profile_report.html')"
   ]
  },
  {
   "cell_type": "markdown",
   "metadata": {},
   "source": [
    "### Correlation"
   ]
  },
  {
   "cell_type": "code",
   "execution_count": 34,
   "metadata": {},
   "outputs": [],
   "source": [
    "import seaborn as sns"
   ]
  },
  {
   "cell_type": "code",
   "execution_count": 35,
   "metadata": {},
   "outputs": [
    {
     "data": {
      "text/plain": [
       "<matplotlib.axes._subplots.AxesSubplot at 0x651584f400>"
      ]
     },
     "execution_count": 35,
     "metadata": {},
     "output_type": "execute_result"
    },
    {
     "data": {
      "image/png": "[encoded data removed]",
      "text/plain": [
       "<Figure size 576x396 with 2 Axes>"
      ]
     },
     "metadata": {},
     "output_type": "display_data"
    }
   ],
   "source": [
    "sns.heatmap(Train.corr())"
   ]
  },
  {
   "cell_type": "markdown",
   "metadata": {},
   "source": [
    "## Data Exploratory analysis"
   ]
  },
  {
   "cell_type": "code",
   "execution_count": 36,
   "metadata": {},
   "outputs": [
    {
     "data": {
      "text/plain": [
       "<matplotlib.axes._subplots.AxesSubplot at 0x6512b0cfd0>"
      ]
     },
     "execution_count": 36,
     "metadata": {},
     "output_type": "execute_result"
    },
    {
     "data": {
      "image/png": "[encoded data removed]",
      "text/plain": [
       "<Figure size 576x396 with 1 Axes>"
      ]
     },
     "metadata": {},
     "output_type": "display_data"
    }
   ],
   "source": [
    "\n",
    "Train['Store'].value_counts(normalize=True).plot(kind = 'bar',fig=(10,14))"
   ]
  },
  {
   "cell_type": "code",
   "execution_count": 37,
   "metadata": {},
   "outputs": [
    {
     "data": {
      "text/plain": [
       "<matplotlib.axes._subplots.AxesSubplot at 0x6512c6eda0>"
      ]
     },
     "execution_count": 37,
     "metadata": {},
     "output_type": "execute_result"
    },
    {
     "data": {
      "image/png": "[encoded data removed]",
      "text/plain": [
       "<Figure size 576x396 with 1 Axes>"
      ]
     },
     "metadata": {},
     "output_type": "display_data"
    }
   ],
   "source": [
    "sns.distplot(Train.Weekly_Sales)"
   ]
  },
  {
   "cell_type": "markdown",
   "metadata": {},
   "source": [
    "store  size vs sales"
   ]
  },
  {
   "cell_type": "code",
   "execution_count": 38,
   "metadata": {},
   "outputs": [
    {
     "data": {
      "text/plain": [
       "<matplotlib.axes._subplots.AxesSubplot at 0x6512d6d320>"
      ]
     },
     "execution_count": 38,
     "metadata": {},
     "output_type": "execute_result"
    },
    {
     "data": {
      "image/png": "[encoded data removed]",
      "text/plain": [
       "<Figure size 576x396 with 1 Axes>"
      ]
     },
     "metadata": {},
     "output_type": "display_data"
    }
   ],
   "source": [
    "Train.plot(kind='line', x='Weekly_Sales', y='Store', alpha=0.5)"
   ]
  },
  {
   "cell_type": "markdown",
   "metadata": {},
   "source": [
    "## Missing Value Treatment"
   ]
  },
  {
   "cell_type": "code",
   "execution_count": 39,
   "metadata": {},
   "outputs": [
    {
     "data": {
      "text/plain": [
       "Store           0\n",
       "Temperature     0\n",
       "Fuel_Price      0\n",
       "MarkDown1       0\n",
       "MarkDown2       0\n",
       "MarkDown3       0\n",
       "MarkDown4       0\n",
       "MarkDown5       0\n",
       "CPI             0\n",
       "Unemployment    0\n",
       "IsHoliday       0\n",
       "Size            0\n",
       "Dept            0\n",
       "Weekly_Sales    0\n",
       "Date            0\n",
       "A               0\n",
       "B               0\n",
       "C               0\n",
       "dtype: int64"
      ]
     },
     "execution_count": 39,
     "metadata": {},
     "output_type": "execute_result"
    }
   ],
   "source": [
    "#Train.isnull().sum()\n",
    "\n",
    "Train.isnull().sum()"
   ]
  },
  {
   "cell_type": "code",
   "execution_count": 40,
   "metadata": {},
   "outputs": [],
   "source": [
    "Test['CPI']=Test.groupby(['Dept'])['CPI'].transform(lambda x: x.fillna(x.mean()))\n",
    "Test['Unemployment']=Test.groupby(['Dept'])['Unemployment'].transform(lambda x: x.fillna(x.mean()))"
   ]
  },
  {
   "cell_type": "code",
   "execution_count": 41,
   "metadata": {},
   "outputs": [],
   "source": [
    "Train=Train.fillna(0)\n",
    "Test=Test.fillna(0)"
   ]
  },
  {
   "cell_type": "code",
   "execution_count": 42,
   "metadata": {},
   "outputs": [
    {
     "data": {
      "text/plain": [
       "Store           0\n",
       "Temperature     0\n",
       "Fuel_Price      0\n",
       "MarkDown1       0\n",
       "MarkDown2       0\n",
       "MarkDown3       0\n",
       "MarkDown4       0\n",
       "MarkDown5       0\n",
       "CPI             0\n",
       "Unemployment    0\n",
       "IsHoliday       0\n",
       "Size            0\n",
       "Dept            0\n",
       "Weekly_Sales    0\n",
       "Date            0\n",
       "A               0\n",
       "B               0\n",
       "C               0\n",
       "dtype: int64"
      ]
     },
     "execution_count": 42,
     "metadata": {},
     "output_type": "execute_result"
    }
   ],
   "source": [
    "Train.isnull().sum()"
   ]
  },
  {
   "cell_type": "code",
   "execution_count": 43,
   "metadata": {},
   "outputs": [],
   "source": [
    "Train['Date'] = pd.to_datetime(Train['Date'])\n",
    "Test['Date'] = pd.to_datetime(Test['Date'])"
   ]
  },
  {
   "cell_type": "code",
   "execution_count": 44,
   "metadata": {},
   "outputs": [],
   "source": [
    "# Extract date features\n",
    "Train['Date_dayofweek'] =Train['Date'].dt.dayofweek\n",
    "Train['Date_month'] =Train['Date'].dt.month \n",
    "Train['Date_year'] =Train['Date'].dt.year\n",
    "Train['Date_day'] =Train['Date'].dt.day \n",
    "\n",
    "Test['Date_dayofweek'] =Test['Date'].dt.dayofweek\n",
    "Test['Date_month'] =Test['Date'].dt.month \n",
    "Test['Date_year'] =Test['Date'].dt.year\n",
    "Test['Date_day'] =Test['Date'].dt.day"
   ]
  },
  {
   "cell_type": "code",
   "execution_count": 45,
   "metadata": {},
   "outputs": [
    {
     "name": "stdout",
     "output_type": "stream",
     "text": [
      "<class 'pandas.core.frame.DataFrame'>\n",
      "Int64Index: 421570 entries, 0 to 421569\n",
      "Data columns (total 22 columns):\n",
      "Store             421570 non-null int64\n",
      "Temperature       421570 non-null float64\n",
      "Fuel_Price        421570 non-null float64\n",
      "MarkDown1         421570 non-null float64\n",
      "MarkDown2         421570 non-null float64\n",
      "MarkDown3         421570 non-null float64\n",
      "MarkDown4         421570 non-null float64\n",
      "MarkDown5         421570 non-null float64\n",
      "CPI               421570 non-null float64\n",
      "Unemployment      421570 non-null float64\n",
      "IsHoliday         421570 non-null bool\n",
      "Size              421570 non-null int64\n",
      "Dept              421570 non-null int64\n",
      "Weekly_Sales      421570 non-null float64\n",
      "Date              421570 non-null datetime64[ns]\n",
      "A                 421570 non-null uint8\n",
      "B                 421570 non-null uint8\n",
      "C                 421570 non-null uint8\n",
      "Date_dayofweek    421570 non-null int64\n",
      "Date_month        421570 non-null int64\n",
      "Date_year         421570 non-null int64\n",
      "Date_day          421570 non-null int64\n",
      "dtypes: bool(1), datetime64[ns](1), float64(10), int64(7), uint8(3)\n",
      "memory usage: 82.7 MB\n"
     ]
    }
   ],
   "source": [
    "Train.info()"
   ]
  },
  {
   "cell_type": "code",
   "execution_count": 46,
   "metadata": {},
   "outputs": [
    {
     "data": {
      "text/plain": [
       "False    391909\n",
       "True      29661\n",
       "Name: IsHoliday, dtype: int64"
      ]
     },
     "execution_count": 46,
     "metadata": {},
     "output_type": "execute_result"
    }
   ],
   "source": [
    "Train.IsHoliday.value_counts()"
   ]
  },
  {
   "cell_type": "code",
   "execution_count": 47,
   "metadata": {},
   "outputs": [
    {
     "data": {
      "text/plain": [
       "False    106136\n",
       "True       8928\n",
       "Name: IsHoliday, dtype: int64"
      ]
     },
     "execution_count": 47,
     "metadata": {},
     "output_type": "execute_result"
    }
   ],
   "source": [
    "Test.IsHoliday.value_counts()"
   ]
  },
  {
   "cell_type": "code",
   "execution_count": 48,
   "metadata": {},
   "outputs": [],
   "source": [
    "train_test_data = [Train, Test]"
   ]
  },
  {
   "cell_type": "code",
   "execution_count": 49,
   "metadata": {},
   "outputs": [
    {
     "data": {
      "text/html": [
       "<div>\n",
       "<style scoped>\n",
       "    .dataframe tbody tr th:only-of-type {\n",
       "        vertical-align: middle;\n",
       "    }\n",
       "\n",
       "    .dataframe tbody tr th {\n",
       "        vertical-align: top;\n",
       "    }\n",
       "\n",
       "    .dataframe thead th {\n",
       "        text-align: right;\n",
       "    }\n",
       "</style>\n",
       "<table border=\"1\" class=\"dataframe\">\n",
       "  <thead>\n",
       "    <tr style=\"text-align: right;\">\n",
       "      <th></th>\n",
       "      <th>Store</th>\n",
       "      <th>Temperature</th>\n",
       "      <th>Fuel_Price</th>\n",
       "      <th>MarkDown1</th>\n",
       "      <th>MarkDown2</th>\n",
       "      <th>MarkDown3</th>\n",
       "      <th>MarkDown4</th>\n",
       "      <th>MarkDown5</th>\n",
       "      <th>CPI</th>\n",
       "      <th>Unemployment</th>\n",
       "      <th>...</th>\n",
       "      <th>Dept</th>\n",
       "      <th>Weekly_Sales</th>\n",
       "      <th>Date</th>\n",
       "      <th>A</th>\n",
       "      <th>B</th>\n",
       "      <th>C</th>\n",
       "      <th>Date_dayofweek</th>\n",
       "      <th>Date_month</th>\n",
       "      <th>Date_year</th>\n",
       "      <th>Date_day</th>\n",
       "    </tr>\n",
       "  </thead>\n",
       "  <tbody>\n",
       "    <tr>\n",
       "      <th>0</th>\n",
       "      <td>1</td>\n",
       "      <td>42.31</td>\n",
       "      <td>2.572</td>\n",
       "      <td>0.0</td>\n",
       "      <td>0.0</td>\n",
       "      <td>0.0</td>\n",
       "      <td>0.0</td>\n",
       "      <td>0.0</td>\n",
       "      <td>211.096358</td>\n",
       "      <td>8.106</td>\n",
       "      <td>...</td>\n",
       "      <td>1</td>\n",
       "      <td>24924.50</td>\n",
       "      <td>2010-02-05</td>\n",
       "      <td>1</td>\n",
       "      <td>0</td>\n",
       "      <td>0</td>\n",
       "      <td>4</td>\n",
       "      <td>2</td>\n",
       "      <td>2010</td>\n",
       "      <td>5</td>\n",
       "    </tr>\n",
       "    <tr>\n",
       "      <th>1</th>\n",
       "      <td>1</td>\n",
       "      <td>42.31</td>\n",
       "      <td>2.572</td>\n",
       "      <td>0.0</td>\n",
       "      <td>0.0</td>\n",
       "      <td>0.0</td>\n",
       "      <td>0.0</td>\n",
       "      <td>0.0</td>\n",
       "      <td>211.096358</td>\n",
       "      <td>8.106</td>\n",
       "      <td>...</td>\n",
       "      <td>2</td>\n",
       "      <td>50605.27</td>\n",
       "      <td>2010-02-05</td>\n",
       "      <td>1</td>\n",
       "      <td>0</td>\n",
       "      <td>0</td>\n",
       "      <td>4</td>\n",
       "      <td>2</td>\n",
       "      <td>2010</td>\n",
       "      <td>5</td>\n",
       "    </tr>\n",
       "    <tr>\n",
       "      <th>2</th>\n",
       "      <td>1</td>\n",
       "      <td>42.31</td>\n",
       "      <td>2.572</td>\n",
       "      <td>0.0</td>\n",
       "      <td>0.0</td>\n",
       "      <td>0.0</td>\n",
       "      <td>0.0</td>\n",
       "      <td>0.0</td>\n",
       "      <td>211.096358</td>\n",
       "      <td>8.106</td>\n",
       "      <td>...</td>\n",
       "      <td>3</td>\n",
       "      <td>13740.12</td>\n",
       "      <td>2010-02-05</td>\n",
       "      <td>1</td>\n",
       "      <td>0</td>\n",
       "      <td>0</td>\n",
       "      <td>4</td>\n",
       "      <td>2</td>\n",
       "      <td>2010</td>\n",
       "      <td>5</td>\n",
       "    </tr>\n",
       "    <tr>\n",
       "      <th>3</th>\n",
       "      <td>1</td>\n",
       "      <td>42.31</td>\n",
       "      <td>2.572</td>\n",
       "      <td>0.0</td>\n",
       "      <td>0.0</td>\n",
       "      <td>0.0</td>\n",
       "      <td>0.0</td>\n",
       "      <td>0.0</td>\n",
       "      <td>211.096358</td>\n",
       "      <td>8.106</td>\n",
       "      <td>...</td>\n",
       "      <td>4</td>\n",
       "      <td>39954.04</td>\n",
       "      <td>2010-02-05</td>\n",
       "      <td>1</td>\n",
       "      <td>0</td>\n",
       "      <td>0</td>\n",
       "      <td>4</td>\n",
       "      <td>2</td>\n",
       "      <td>2010</td>\n",
       "      <td>5</td>\n",
       "    </tr>\n",
       "    <tr>\n",
       "      <th>4</th>\n",
       "      <td>1</td>\n",
       "      <td>42.31</td>\n",
       "      <td>2.572</td>\n",
       "      <td>0.0</td>\n",
       "      <td>0.0</td>\n",
       "      <td>0.0</td>\n",
       "      <td>0.0</td>\n",
       "      <td>0.0</td>\n",
       "      <td>211.096358</td>\n",
       "      <td>8.106</td>\n",
       "      <td>...</td>\n",
       "      <td>5</td>\n",
       "      <td>32229.38</td>\n",
       "      <td>2010-02-05</td>\n",
       "      <td>1</td>\n",
       "      <td>0</td>\n",
       "      <td>0</td>\n",
       "      <td>4</td>\n",
       "      <td>2</td>\n",
       "      <td>2010</td>\n",
       "      <td>5</td>\n",
       "    </tr>\n",
       "  </tbody>\n",
       "</table>\n",
       "<p>5 rows × 22 columns</p>\n",
       "</div>"
      ],
      "text/plain": [
       "   Store  Temperature  Fuel_Price  MarkDown1  MarkDown2  MarkDown3  MarkDown4  \\\n",
       "0      1        42.31       2.572        0.0        0.0        0.0        0.0   \n",
       "1      1        42.31       2.572        0.0        0.0        0.0        0.0   \n",
       "2      1        42.31       2.572        0.0        0.0        0.0        0.0   \n",
       "3      1        42.31       2.572        0.0        0.0        0.0        0.0   \n",
       "4      1        42.31       2.572        0.0        0.0        0.0        0.0   \n",
       "\n",
       "   MarkDown5         CPI  Unemployment  ...  Dept  Weekly_Sales       Date  A  \\\n",
       "0        0.0  211.096358         8.106  ...     1      24924.50 2010-02-05  1   \n",
       "1        0.0  211.096358         8.106  ...     2      50605.27 2010-02-05  1   \n",
       "2        0.0  211.096358         8.106  ...     3      13740.12 2010-02-05  1   \n",
       "3        0.0  211.096358         8.106  ...     4      39954.04 2010-02-05  1   \n",
       "4        0.0  211.096358         8.106  ...     5      32229.38 2010-02-05  1   \n",
       "\n",
       "   B  C  Date_dayofweek  Date_month  Date_year  Date_day  \n",
       "0  0  0               4           2       2010         5  \n",
       "1  0  0               4           2       2010         5  \n",
       "2  0  0               4           2       2010         5  \n",
       "3  0  0               4           2       2010         5  \n",
       "4  0  0               4           2       2010         5  \n",
       "\n",
       "[5 rows x 22 columns]"
      ]
     },
     "execution_count": 49,
     "metadata": {},
     "output_type": "execute_result"
    }
   ],
   "source": [
    "Train.head()"
   ]
  },
  {
   "cell_type": "code",
   "execution_count": 50,
   "metadata": {},
   "outputs": [],
   "source": [
    "Train.rename(columns={\"A\":\"1\",\"B\":\"2\",\"C\":\"3\"},inplace=True)\n",
    "Test.rename(columns={\"A\":\"1\",\"B\":\"2\",\"C\":\"3\"},inplace=True)"
   ]
  },
  {
   "cell_type": "code",
   "execution_count": 51,
   "metadata": {},
   "outputs": [],
   "source": [
    "Train['1'] = Train['1'].astype(int)\n",
    "Train['2'] = Train['2'].astype(int)\n",
    "Train['3'] = Train['2'].astype(int)\n",
    "Test['1'] = Train['1'].astype(int)\n",
    "Test['2'] = Train['2'].astype(int)\n",
    "Test['3'] = Train['2'].astype(int)\n",
    "Train['IsHoliday'] = Train['IsHoliday'].astype(bool)\n",
    "    \n",
    "    "
   ]
  },
  {
   "cell_type": "code",
   "execution_count": 52,
   "metadata": {},
   "outputs": [
    {
     "data": {
      "text/plain": [
       "False    391909\n",
       "True      29661\n",
       "Name: IsHoliday, dtype: int64"
      ]
     },
     "execution_count": 52,
     "metadata": {},
     "output_type": "execute_result"
    }
   ],
   "source": [
    "Train.IsHoliday.value_counts()"
   ]
  },
  {
   "cell_type": "code",
   "execution_count": 53,
   "metadata": {},
   "outputs": [
    {
     "data": {
      "text/plain": [
       "0    0\n",
       "1    0\n",
       "2    0\n",
       "3    0\n",
       "4    0\n",
       "Name: variable, dtype: int64"
      ]
     },
     "execution_count": 53,
     "metadata": {},
     "output_type": "execute_result"
    }
   ],
   "source": [
    "from sklearn import preprocessing\n",
    "lab_enc = preprocessing.LabelEncoder()\n",
    "lab_enc.fit(Train['IsHoliday'])\n",
    "variable = lab_enc.transform(Train['IsHoliday'])\n",
    "Train['variable'] = variable\n",
    "Train['variable'].head()\n",
    "lab_enc.fit(Test['IsHoliday'])\n",
    "variable = lab_enc.transform(Test['IsHoliday'])\n",
    "Test['variable'] = variable\n",
    "Test['variable'].head()\n",
    "    "
   ]
  },
  {
   "cell_type": "code",
   "execution_count": 54,
   "metadata": {},
   "outputs": [
    {
     "data": {
      "text/plain": [
       "0    0\n",
       "1    0\n",
       "2    0\n",
       "3    0\n",
       "4    0\n",
       "Name: variable, dtype: int64"
      ]
     },
     "execution_count": 54,
     "metadata": {},
     "output_type": "execute_result"
    }
   ],
   "source": [
    "Test.variable.head()"
   ]
  },
  {
   "cell_type": "code",
   "execution_count": 55,
   "metadata": {},
   "outputs": [],
   "source": [
    "Train['variable'] = Train['variable'].astype(int)\n",
    "Test['variable'] = Test['variable'].astype(int)"
   ]
  },
  {
   "cell_type": "code",
   "execution_count": 56,
   "metadata": {},
   "outputs": [],
   "source": [
    "from datetime import datetime\n"
   ]
  },
  {
   "cell_type": "code",
   "execution_count": 57,
   "metadata": {},
   "outputs": [],
   "source": [
    "Train['Super_Bowl'] = np.where((Train['Date']==datetime(2010, 2, 12)) | (Train['Date']==datetime(2011, 2, 11)) | \n",
    "                               (Train['Date']==datetime(2012, 2, 10)) | (Train['Date']==datetime(2013, 2, 8)),1,0)\n",
    "Train['Labour_Day'] = np.where((Train['Date']==datetime(2010, 9, 10)) | (Train['Date']==datetime(2011, 9, 9)) | \n",
    "                               (Train['Date']==datetime(2012, 9, 7)) | (Train['Date']==datetime(2013, 9, 6)),1,0)\n",
    "Train['Thanksgiving'] = np.where((Train['Date']==datetime(2010, 11, 26)) | (Train['Date']==datetime(2011, 11, 25)) | \n",
    "                                 (Train['Date']==datetime(2012, 11, 23)) | (Train['Date']==datetime(2013, 11, 29)),1,0)\n",
    "Train['Christmas'] = np.where((Train['Date']==datetime(2010, 12, 31)) | (Train['Date']==datetime(2011, 12, 30)) | \n",
    "                              (Train['Date']==datetime(2012, 12, 28)) | (Train['Date']==datetime(2013, 12, 27)),1,0)\n",
    "#........................................................................\n",
    "Test['Super_Bowl'] = np.where((Test['Date']==datetime(2010, 2, 12)) | (Test['Date']==datetime(2011, 2, 11)) | \n",
    "                              (Test['Date']==datetime(2012, 2, 10)) | (Test['Date']==datetime(2013, 2, 8)),1,0)\n",
    "Test['Labour_Day'] = np.where((Test['Date']==datetime(2010, 9, 10)) | (Test['Date']==datetime(2011, 9, 9)) | \n",
    "                              (Test['Date']==datetime(2012, 9, 7)) | (Test['Date']==datetime(2013, 9, 6)),1,0)\n",
    "Test['Thanksgiving'] = np.where((Test['Date']==datetime(2010, 11, 26)) | (Test['Date']==datetime(2011, 11, 25)) | \n",
    "                                (Test['Date']==datetime(2012, 11, 23)) | (Test['Date']==datetime(2013, 11, 29)),1,0)\n",
    "Test['Christmas'] = np.where((Test['Date']==datetime(2010, 12, 31)) | (Test['Date']==datetime(2011, 12, 30)) | \n",
    "                             (Test['Date']==datetime(2012, 12, 28)) | (Test['Date']==datetime(2013, 12, 27)),1,0)"
   ]
  },
  {
   "cell_type": "code",
   "execution_count": 58,
   "metadata": {},
   "outputs": [],
   "source": [
    "# Altering the isHoliday value depending on these new holidays...\n",
    "Train['variable']=Train['variable']|Train['Super_Bowl']|Train['Labour_Day']|Train['Thanksgiving']|Train['Christmas']\n",
    "Test['variable']=Test['variable']|Test['Super_Bowl']|Test['Labour_Day']|Test['Thanksgiving']|Test['Christmas']"
   ]
  },
  {
   "cell_type": "code",
   "execution_count": 59,
   "metadata": {},
   "outputs": [
    {
     "name": "stdout",
     "output_type": "stream",
     "text": [
      "0    415624\n",
      "1      5946\n",
      "Name: Christmas, dtype: int64\n",
      "0    412675\n",
      "1      8895\n",
      "Name: Super_Bowl, dtype: int64\n",
      "0    415611\n",
      "1      5959\n",
      "Name: Thanksgiving, dtype: int64\n",
      "0    412709\n",
      "1      8861\n",
      "Name: Labour_Day, dtype: int64\n"
     ]
    }
   ],
   "source": [
    "print(Train.Christmas.value_counts())\n",
    "print(Train.Super_Bowl.value_counts())\n",
    "print(Train.Thanksgiving.value_counts())\n",
    "print(Train.Labour_Day.value_counts())"
   ]
  },
  {
   "cell_type": "code",
   "execution_count": 60,
   "metadata": {},
   "outputs": [
    {
     "name": "stdout",
     "output_type": "stream",
     "text": [
      "0    112076\n",
      "1      2988\n",
      "Name: Christmas, dtype: int64\n",
      "0    112100\n",
      "1      2964\n",
      "Name: Super_Bowl, dtype: int64\n",
      "0    112088\n",
      "1      2976\n",
      "Name: Thanksgiving, dtype: int64\n",
      "0    115064\n",
      "Name: Labour_Day, dtype: int64\n"
     ]
    }
   ],
   "source": [
    "print(Test.Christmas.value_counts())\n",
    "print(Test.Super_Bowl.value_counts())\n",
    "print(Test.Thanksgiving.value_counts())\n",
    "print(Test.Labour_Day.value_counts())"
   ]
  },
  {
   "cell_type": "code",
   "execution_count": 61,
   "metadata": {},
   "outputs": [],
   "source": [
    "# Since we have Imputed variable according to Extra holidays..These extra holiday variable has redundant..\n",
    "# Droping the Extra holiday variables because its redundant..\n",
    "dp=['Super_Bowl','Labour_Day','Thanksgiving','Christmas']\n",
    "Train.drop(dp,axis=1,inplace=True)\n",
    "Test.drop(dp,axis=1,inplace=True)"
   ]
  },
  {
   "cell_type": "markdown",
   "metadata": {},
   "source": [
    "## Feature Reduction"
   ]
  },
  {
   "cell_type": "code",
   "execution_count": 62,
   "metadata": {},
   "outputs": [
    {
     "name": "stdout",
     "output_type": "stream",
     "text": [
      "<class 'pandas.core.frame.DataFrame'>\n",
      "Int64Index: 421570 entries, 0 to 421569\n",
      "Data columns (total 23 columns):\n",
      "Store             421570 non-null int64\n",
      "Temperature       421570 non-null float64\n",
      "Fuel_Price        421570 non-null float64\n",
      "MarkDown1         421570 non-null float64\n",
      "MarkDown2         421570 non-null float64\n",
      "MarkDown3         421570 non-null float64\n",
      "MarkDown4         421570 non-null float64\n",
      "MarkDown5         421570 non-null float64\n",
      "CPI               421570 non-null float64\n",
      "Unemployment      421570 non-null float64\n",
      "IsHoliday         421570 non-null bool\n",
      "Size              421570 non-null int64\n",
      "Dept              421570 non-null int64\n",
      "Weekly_Sales      421570 non-null float64\n",
      "Date              421570 non-null datetime64[ns]\n",
      "1                 421570 non-null int32\n",
      "2                 421570 non-null int32\n",
      "3                 421570 non-null int32\n",
      "Date_dayofweek    421570 non-null int64\n",
      "Date_month        421570 non-null int64\n",
      "Date_year         421570 non-null int64\n",
      "Date_day          421570 non-null int64\n",
      "variable          421570 non-null int32\n",
      "dtypes: bool(1), datetime64[ns](1), float64(10), int32(4), int64(7)\n",
      "memory usage: 87.9 MB\n"
     ]
    }
   ],
   "source": [
    "Train.info()"
   ]
  },
  {
   "cell_type": "code",
   "execution_count": 63,
   "metadata": {},
   "outputs": [],
   "source": [
    "features_drop=['Unemployment','CPI','MarkDown5']\n",
    "Train=Train.drop(features_drop, axis=1)\n",
    "Test=Test.drop(features_drop, axis=1)"
   ]
  },
  {
   "cell_type": "code",
   "execution_count": 64,
   "metadata": {},
   "outputs": [
    {
     "data": {
      "text/plain": [
       "Store                      int64\n",
       "Temperature              float64\n",
       "Fuel_Price               float64\n",
       "MarkDown1                float64\n",
       "MarkDown2                float64\n",
       "MarkDown3                float64\n",
       "MarkDown4                float64\n",
       "IsHoliday                   bool\n",
       "Size                       int64\n",
       "Dept                       int64\n",
       "Date              datetime64[ns]\n",
       "1                          int32\n",
       "2                          int32\n",
       "3                          int32\n",
       "Date_dayofweek             int64\n",
       "Date_month                 int64\n",
       "Date_year                  int64\n",
       "Date_day                   int64\n",
       "variable                   int32\n",
       "dtype: object"
      ]
     },
     "execution_count": 64,
     "metadata": {},
     "output_type": "execute_result"
    }
   ],
   "source": [
    "Test.dtypes"
   ]
  },
  {
   "cell_type": "code",
   "execution_count": 65,
   "metadata": {},
   "outputs": [],
   "source": [
    "\n",
    "# Converting all float var int integer..\n",
    "for var in Train:\n",
    "    if Train[var].dtypes == float:\n",
    "        Train[var]=Train[var].astype(int)\n",
    "        \n",
    "for var in Test:    \n",
    "    if Test[var].dtypes == float:\n",
    "        Test[var]=Test[var].astype(int)"
   ]
  },
  {
   "cell_type": "code",
   "execution_count": 66,
   "metadata": {},
   "outputs": [
    {
     "data": {
      "text/plain": [
       "(Store                      int64\n",
       " Temperature                int32\n",
       " Fuel_Price                 int32\n",
       " MarkDown1                  int32\n",
       " MarkDown2                  int32\n",
       " MarkDown3                  int32\n",
       " MarkDown4                  int32\n",
       " IsHoliday                   bool\n",
       " Size                       int64\n",
       " Dept                       int64\n",
       " Weekly_Sales               int32\n",
       " Date              datetime64[ns]\n",
       " 1                          int32\n",
       " 2                          int32\n",
       " 3                          int32\n",
       " Date_dayofweek             int64\n",
       " Date_month                 int64\n",
       " Date_year                  int64\n",
       " Date_day                   int64\n",
       " variable                   int32\n",
       " dtype: object, Store                      int64\n",
       " Temperature                int32\n",
       " Fuel_Price                 int32\n",
       " MarkDown1                  int32\n",
       " MarkDown2                  int32\n",
       " MarkDown3                  int32\n",
       " MarkDown4                  int32\n",
       " IsHoliday                   bool\n",
       " Size                       int64\n",
       " Dept                       int64\n",
       " Date              datetime64[ns]\n",
       " 1                          int32\n",
       " 2                          int32\n",
       " 3                          int32\n",
       " Date_dayofweek             int64\n",
       " Date_month                 int64\n",
       " Date_year                  int64\n",
       " Date_day                   int64\n",
       " variable                   int32\n",
       " dtype: object)"
      ]
     },
     "execution_count": 66,
     "metadata": {},
     "output_type": "execute_result"
    }
   ],
   "source": [
    "Train.dtypes,Test.dtypes"
   ]
  },
  {
   "cell_type": "markdown",
   "metadata": {},
   "source": [
    "### defining  train and test  data"
   ]
  },
  {
   "cell_type": "code",
   "execution_count": 67,
   "metadata": {},
   "outputs": [
    {
     "data": {
      "text/plain": [
       "((421570, 18), (421570,), (115064, 18))"
      ]
     },
     "execution_count": 67,
     "metadata": {},
     "output_type": "execute_result"
    }
   ],
   "source": [
    "\n",
    "#### train X= Exery thing except Weekly_Sales\n",
    "Train_X=Train.drop(['Weekly_Sales','Date'], axis=1)\n",
    "\n",
    "#### train Y= Only Weekly_Sales \n",
    "Train_y=Train['Weekly_Sales'] \n",
    "Test_X=Test.drop('Date',axis=1).copy()\n",
    "\n",
    "Train_X.shape, Train_y.shape, Test_X.shape"
   ]
  },
  {
   "cell_type": "markdown",
   "metadata": {},
   "source": [
    "## model implementation"
   ]
  },
  {
   "cell_type": "markdown",
   "metadata": {},
   "source": [
    "### 1 Linear regression"
   ]
  },
  {
   "cell_type": "code",
   "execution_count": 68,
   "metadata": {},
   "outputs": [],
   "source": [
    "from sklearn.linear_model import LogisticRegression, LinearRegression, ElasticNet, Lasso, Ridge\n",
    "from sklearn.neighbors import KNeighborsClassifier, KNeighborsRegressor\n",
    "from sklearn.tree import DecisionTreeClassifier, DecisionTreeRegressor, export_graphviz, export\n",
    "from sklearn.ensemble import BaggingClassifier, BaggingRegressor,RandomForestClassifier,RandomForestRegressor\n",
    "from sklearn.ensemble import GradientBoostingClassifier,GradientBoostingRegressor, AdaBoostClassifier, AdaBoostRegressor \n",
    "from xgboost import XGBClassifier, XGBRegressor\n",
    "from sklearn.naive_bayes import BernoulliNB, MultinomialNB, GaussianNB\n",
    "from sklearn.svm import LinearSVC, LinearSVR, SVC, SVR\n",
    "from sklearn.neural_network import MLPClassifier, MLPRegressor"
   ]
  },
  {
   "cell_type": "code",
   "execution_count": 69,
   "metadata": {},
   "outputs": [
    {
     "name": "stdout",
     "output_type": "stream",
     "text": [
      "scorbe:9.19 percent\n"
     ]
    }
   ],
   "source": [
    "clf = LinearRegression()\n",
    "clf.fit(Train_X, Train_y)\n",
    "y_pred_linear=clf.predict(Test_X)\n",
    "acc_linear=round( clf.score(Train_X, Train_y) * 100, 2)\n",
    "print ('scorbe:'+str(acc_linear) + ' percent')"
   ]
  },
  {
   "cell_type": "markdown",
   "metadata": {},
   "source": [
    "## 2 Random Forest"
   ]
  },
  {
   "cell_type": "code",
   "execution_count": 72,
   "metadata": {},
   "outputs": [],
   "source": [
    "from sklearn.ensemble import RandomForestRegressor"
   ]
  },
  {
   "cell_type": "code",
   "execution_count": 74,
   "metadata": {},
   "outputs": [
    {
     "name": "stdout",
     "output_type": "stream",
     "text": [
      "Accuracy: 99 % \n",
      "\n"
     ]
    }
   ],
   "source": [
    "clf = RandomForestRegressor(n_estimators=20)\n",
    "clf.fit(Train_X, Train_y)\n",
    "y_pred_rf=clf.predict(Test_X)\n",
    "acc_rf= round(clf.score(Train_X, Train_y) * 100, 2)\n",
    "print (\"Accuracy: %i %% \\n\"%acc_rf)"
   ]
  },
  {
   "cell_type": "markdown",
   "metadata": {},
   "source": [
    "### 3 Decsion Trees"
   ]
  },
  {
   "cell_type": "code",
   "execution_count": 75,
   "metadata": {},
   "outputs": [
    {
     "name": "stdout",
     "output_type": "stream",
     "text": [
      "99.97 percent\n"
     ]
    }
   ],
   "source": [
    "clf=DecisionTreeRegressor()\n",
    "clf.fit(Train_X, Train_y)\n",
    "y_pred_dt= clf.predict(Test_X)\n",
    "acc_dt = round( clf.score(Train_X, Train_y) * 100, 2)\n",
    "print (str(acc_dt) + ' percent')"
   ]
  },
  {
   "cell_type": "markdown",
   "metadata": {},
   "source": [
    "### results"
   ]
  },
  {
   "cell_type": "code",
   "execution_count": 76,
   "metadata": {},
   "outputs": [
    {
     "data": {
      "text/html": [
       "<div>\n",
       "<style scoped>\n",
       "    .dataframe tbody tr th:only-of-type {\n",
       "        vertical-align: middle;\n",
       "    }\n",
       "\n",
       "    .dataframe tbody tr th {\n",
       "        vertical-align: top;\n",
       "    }\n",
       "\n",
       "    .dataframe thead th {\n",
       "        text-align: right;\n",
       "    }\n",
       "</style>\n",
       "<table border=\"1\" class=\"dataframe\">\n",
       "  <thead>\n",
       "    <tr style=\"text-align: right;\">\n",
       "      <th></th>\n",
       "      <th>Model</th>\n",
       "      <th>Score</th>\n",
       "    </tr>\n",
       "  </thead>\n",
       "  <tbody>\n",
       "    <tr>\n",
       "      <th>2</th>\n",
       "      <td>Decision Tree</td>\n",
       "      <td>99.97</td>\n",
       "    </tr>\n",
       "    <tr>\n",
       "      <th>1</th>\n",
       "      <td>Random Forest</td>\n",
       "      <td>99.69</td>\n",
       "    </tr>\n",
       "    <tr>\n",
       "      <th>0</th>\n",
       "      <td>Linear Regression</td>\n",
       "      <td>9.19</td>\n",
       "    </tr>\n",
       "  </tbody>\n",
       "</table>\n",
       "</div>"
      ],
      "text/plain": [
       "               Model  Score\n",
       "2      Decision Tree  99.97\n",
       "1      Random Forest  99.69\n",
       "0  Linear Regression   9.19"
      ]
     },
     "execution_count": 76,
     "metadata": {},
     "output_type": "execute_result"
    }
   ],
   "source": [
    "\n",
    "models = pd.DataFrame({\n",
    "    'Model': ['Linear Regression','Random Forest','Decision Tree'],\n",
    "    \n",
    "    'Score': [acc_linear, acc_rf,acc_dt]\n",
    "    })\n",
    "\n",
    "models.sort_values(by='Score', ascending=False)"
   ]
  },
  {
   "cell_type": "markdown",
   "metadata": {},
   "source": [
    "### Predicting high score model using test data"
   ]
  },
  {
   "cell_type": "code",
   "execution_count": 78,
   "metadata": {},
   "outputs": [],
   "source": [
    "# Prediction value using Random Forest model..\n",
    "submission = pd.DataFrame({\n",
    "        \"Store_Dept_Date\": Test.Store.astype(str)+'_'+Test.Dept.astype(str)+'_'+Test.Date.astype(str),\n",
    "        \"Weekly_Sales\": y_pred_rf\n",
    "    })\n",
    "\n",
    "submission.to_csv('weekly_sales predicted.csv', index=False)\n",
    "#submission.to_excel(writer,'Weekly_sales Pred',index=False)"
   ]
  },
  {
   "cell_type": "code",
   "execution_count": 79,
   "metadata": {},
   "outputs": [
    {
     "data": {
      "text/html": [
       "<div>\n",
       "<style scoped>\n",
       "    .dataframe tbody tr th:only-of-type {\n",
       "        vertical-align: middle;\n",
       "    }\n",
       "\n",
       "    .dataframe tbody tr th {\n",
       "        vertical-align: top;\n",
       "    }\n",
       "\n",
       "    .dataframe thead th {\n",
       "        text-align: right;\n",
       "    }\n",
       "</style>\n",
       "<table border=\"1\" class=\"dataframe\">\n",
       "  <thead>\n",
       "    <tr style=\"text-align: right;\">\n",
       "      <th></th>\n",
       "      <th>Store_Dept_Date</th>\n",
       "      <th>Weekly_Sales</th>\n",
       "    </tr>\n",
       "  </thead>\n",
       "  <tbody>\n",
       "    <tr>\n",
       "      <th>0</th>\n",
       "      <td>1_1_2012-11-02</td>\n",
       "      <td>36084.65</td>\n",
       "    </tr>\n",
       "    <tr>\n",
       "      <th>1</th>\n",
       "      <td>1_2_2012-11-02</td>\n",
       "      <td>48271.15</td>\n",
       "    </tr>\n",
       "    <tr>\n",
       "      <th>2</th>\n",
       "      <td>1_3_2012-11-02</td>\n",
       "      <td>11036.60</td>\n",
       "    </tr>\n",
       "    <tr>\n",
       "      <th>3</th>\n",
       "      <td>1_4_2012-11-02</td>\n",
       "      <td>38685.40</td>\n",
       "    </tr>\n",
       "    <tr>\n",
       "      <th>4</th>\n",
       "      <td>1_5_2012-11-02</td>\n",
       "      <td>29991.90</td>\n",
       "    </tr>\n",
       "  </tbody>\n",
       "</table>\n",
       "</div>"
      ],
      "text/plain": [
       "  Store_Dept_Date  Weekly_Sales\n",
       "0  1_1_2012-11-02      36084.65\n",
       "1  1_2_2012-11-02      48271.15\n",
       "2  1_3_2012-11-02      11036.60\n",
       "3  1_4_2012-11-02      38685.40\n",
       "4  1_5_2012-11-02      29991.90"
      ]
     },
     "execution_count": 79,
     "metadata": {},
     "output_type": "execute_result"
    }
   ],
   "source": [
    "\n",
    "submission.head()"
   ]
  },
  {
   "cell_type": "code",
   "execution_count": null,
   "metadata": {},
   "outputs": [],
   "source": []
  },
  {
   "cell_type": "code",
   "execution_count": null,
   "metadata": {},
   "outputs": [],
   "source": []
  }
 ],
 "metadata": {
  "kernelspec": {
   "display_name": "Python 3",
   "language": "python",
   "name": "python3"
  },
  "language_info": {
   "codemirror_mode": {
    "name": "ipython",
    "version": 3
   },
   "file_extension": ".py",
   "mimetype": "text/x-python",
   "name": "python",
   "nbconvert_exporter": "python",
   "pygments_lexer": "ipython3",
   "version": "3.7.3"
  }
 },
 "nbformat": 4,
 "nbformat_minor": 2
}
